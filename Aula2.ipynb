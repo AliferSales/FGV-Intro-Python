{
 "worksheets": [
  {
   "cells": [
    {
     "cell_type": "markdown",
     "metadata": {},
     "source": [
      "FGV - Escola de Matemática Aplicada\n",
      "==\n",
      "Curso de Verão - Introdução à Programação com a Linguagem Python\n",
      "--"
     ]
    },
    {
     "cell_type": "heading",
     "metadata": {},
     "level": 4,
     "source": [
      "Tipos padrão do Python:  \n",
      "Tipos numéricos"
     ]
    },
    {
     "cell_type": "code",
     "metadata": {},
     "outputs": [],
     "input": [
      "a = 12"
     ],
     "language": "python",
     "prompt_number": 16
    },
    {
     "cell_type": "code",
     "metadata": {},
     "outputs": [
      {
       "output_type": "pyout",
       "prompt_number": 17,
       "text": [
        "int"
       ],
       "metadata": {}
      }
     ],
     "input": [
      "type(a)"
     ],
     "language": "python",
     "prompt_number": 17
    },
    {
     "cell_type": "code",
     "metadata": {},
     "outputs": [
      {
       "output_type": "pyout",
       "prompt_number": 18,
       "text": [
        "12"
       ],
       "metadata": {}
      }
     ],
     "input": [
      "a.conjugate()"
     ],
     "language": "python",
     "prompt_number": 18
    },
    {
     "cell_type": "code",
     "metadata": {},
     "outputs": [],
     "input": [
      "b = 2.5"
     ],
     "language": "python",
     "prompt_number": 19
    },
    {
     "cell_type": "code",
     "metadata": {},
     "outputs": [
      {
       "output_type": "pyout",
       "prompt_number": 20,
       "text": [
        "float"
       ],
       "metadata": {}
      }
     ],
     "input": [
      "type(b)"
     ],
     "language": "python",
     "prompt_number": 20
    },
    {
     "cell_type": "code",
     "metadata": {},
     "outputs": [
      {
       "output_type": "pyout",
       "prompt_number": 21,
       "text": [
        "(5, 2)"
       ],
       "metadata": {}
      }
     ],
     "input": [
      "b.as_integer_ratio()"
     ],
     "language": "python",
     "prompt_number": 21
    },
    {
     "cell_type": "code",
     "metadata": {},
     "outputs": [
      {
       "output_type": "pyout",
       "prompt_number": 22,
       "text": [
        "'0x1.4000000000000p+1'"
       ],
       "metadata": {}
      }
     ],
     "input": [
      "b.hex()"
     ],
     "language": "python",
     "prompt_number": 22
    },
    {
     "cell_type": "code",
     "metadata": {},
     "outputs": [],
     "input": [
      "c = 3 + 5j"
     ],
     "language": "python",
     "prompt_number": 23
    },
    {
     "cell_type": "code",
     "metadata": {},
     "outputs": [
      {
       "output_type": "pyout",
       "prompt_number": 24,
       "text": [
        "complex"
       ],
       "metadata": {}
      }
     ],
     "input": [
      "type(c)"
     ],
     "language": "python",
     "prompt_number": 24
    },
    {
     "cell_type": "code",
     "metadata": {},
     "outputs": [
      {
       "output_type": "pyout",
       "prompt_number": 25,
       "text": [
        "(3-5j)"
       ],
       "metadata": {}
      }
     ],
     "input": [
      "c.conjugate()"
     ],
     "language": "python",
     "prompt_number": 25
    },
    {
     "cell_type": "code",
     "metadata": {},
     "outputs": [
      {
       "output_type": "pyout",
       "prompt_number": 26,
       "text": [
        "14.5"
       ],
       "metadata": {}
      }
     ],
     "input": [
      "a + b #soma de dois números"
     ],
     "language": "python",
     "prompt_number": 26
    },
    {
     "cell_type": "code",
     "metadata": {},
     "outputs": [
      {
       "output_type": "pyout",
       "prompt_number": 109,
       "text": [
        "int"
       ],
       "metadata": {}
      }
     ],
     "input": [
      "type(int(b))"
     ],
     "language": "python",
     "prompt_number": 109
    },
    {
     "cell_type": "code",
     "metadata": {},
     "outputs": [
      {
       "output_type": "pyout",
       "prompt_number": 108,
       "text": [
        "float"
       ],
       "metadata": {}
      }
     ],
     "input": [
      "type(float(a))"
     ],
     "language": "python",
     "prompt_number": 108
    },
    {
     "cell_type": "heading",
     "metadata": {},
     "level": 4,
     "source": [
      "Tipo Lista"
     ]
    },
    {
     "cell_type": "code",
     "metadata": {},
     "outputs": [],
     "input": [
      "lista = [1,2,3,4,2.8,[9,8],{2,3,4,3},'uma string']"
     ],
     "language": "python",
     "prompt_number": 27
    },
    {
     "cell_type": "code",
     "metadata": {},
     "outputs": [
      {
       "output_type": "pyout",
       "prompt_number": 28,
       "text": [
        "[1, 2, 3, 4, 2.8, [9, 8], {2, 3, 4}, 'uma string']"
       ],
       "metadata": {}
      }
     ],
     "input": [
      "lista"
     ],
     "language": "python",
     "prompt_number": 28
    },
    {
     "cell_type": "code",
     "metadata": {},
     "outputs": [
      {
       "output_type": "pyout",
       "prompt_number": 29,
       "text": [
        "2"
       ],
       "metadata": {}
      }
     ],
     "input": [
      "lista[1]"
     ],
     "language": "python",
     "prompt_number": 29
    },
    {
     "cell_type": "code",
     "metadata": {},
     "outputs": [
      {
       "output_type": "pyout",
       "prompt_number": 30,
       "text": [
        "8"
       ],
       "metadata": {}
      }
     ],
     "input": [
      "lista[5][1]"
     ],
     "language": "python",
     "prompt_number": 30
    },
    {
     "cell_type": "code",
     "metadata": {},
     "outputs": [
      {
       "output_type": "pyout",
       "prompt_number": 31,
       "text": [
        "[1, 2, 3, 4]"
       ],
       "metadata": {}
      }
     ],
     "input": [
      "lista[0:4]"
     ],
     "language": "python",
     "prompt_number": 31
    },
    {
     "cell_type": "code",
     "metadata": {},
     "outputs": [],
     "input": [
      "lista2 = [2,6,3,8]"
     ],
     "language": "python",
     "prompt_number": 32
    },
    {
     "cell_type": "code",
     "metadata": {},
     "outputs": [],
     "input": [
      "lista2.sort()"
     ],
     "language": "python",
     "prompt_number": 33
    },
    {
     "cell_type": "code",
     "metadata": {},
     "outputs": [
      {
       "output_type": "pyout",
       "prompt_number": 34,
       "text": [
        "[2, 3, 6, 8]"
       ],
       "metadata": {}
      }
     ],
     "input": [
      "lista2"
     ],
     "language": "python",
     "prompt_number": 34
    },
    {
     "cell_type": "code",
     "metadata": {},
     "outputs": [],
     "input": [
      "lista2.append(4)"
     ],
     "language": "python",
     "prompt_number": 35
    },
    {
     "cell_type": "code",
     "metadata": {},
     "outputs": [],
     "input": [
      "lista2.extend([0,7,3])"
     ],
     "language": "python",
     "prompt_number": 36
    },
    {
     "cell_type": "code",
     "metadata": {},
     "outputs": [
      {
       "output_type": "pyout",
       "prompt_number": 37,
       "text": [
        "[2, 3, 6, 8, 4, 0, 7, 3]"
       ],
       "metadata": {}
      }
     ],
     "input": [
      "lista2"
     ],
     "language": "python",
     "prompt_number": 37
    },
    {
     "cell_type": "code",
     "metadata": {},
     "outputs": [],
     "input": [
      "lista.append([9,9])"
     ],
     "language": "python",
     "prompt_number": 38
    },
    {
     "cell_type": "code",
     "metadata": {},
     "outputs": [],
     "input": [
      "lista2.insert(2,2+7j)"
     ],
     "language": "python",
     "prompt_number": 39
    },
    {
     "cell_type": "code",
     "metadata": {},
     "outputs": [
      {
       "output_type": "pyout",
       "prompt_number": 40,
       "text": [
        "[2, 3, (2+7j), 6, 8, 4, 0, 7, 3]"
       ],
       "metadata": {}
      }
     ],
     "input": [
      "lista2"
     ],
     "language": "python",
     "prompt_number": 40
    },
    {
     "cell_type": "code",
     "metadata": {},
     "outputs": [
      {
       "output_type": "pyout",
       "prompt_number": 41,
       "text": [
        "3"
       ],
       "metadata": {}
      }
     ],
     "input": [
      "lista2.pop()"
     ],
     "language": "python",
     "prompt_number": 41
    },
    {
     "cell_type": "code",
     "metadata": {},
     "outputs": [
      {
       "output_type": "pyout",
       "prompt_number": 42,
       "text": [
        "[2, 3, (2+7j), 6, 8, 4, 0, 7]"
       ],
       "metadata": {}
      }
     ],
     "input": [
      "lista2"
     ],
     "language": "python",
     "prompt_number": 42
    },
    {
     "cell_type": "heading",
     "metadata": {},
     "level": 4,
     "source": [
      "Tipo String"
     ]
    },
    {
     "cell_type": "code",
     "metadata": {},
     "outputs": [],
     "input": [
      "s1 = 'uma string'\n",
      "s2 = \"outra string\""
     ],
     "language": "python",
     "prompt_number": 43
    },
    {
     "cell_type": "code",
     "metadata": {},
     "outputs": [
      {
       "output_type": "pyout",
       "prompt_number": 44,
       "text": [
        "'uma string'"
       ],
       "metadata": {}
      }
     ],
     "input": [
      "s1"
     ],
     "language": "python",
     "prompt_number": 44
    },
    {
     "cell_type": "code",
     "metadata": {},
     "outputs": [
      {
       "output_type": "pyout",
       "prompt_number": 45,
       "text": [
        "'outra string'"
       ],
       "metadata": {}
      }
     ],
     "input": [
      "s2"
     ],
     "language": "python",
     "prompt_number": 45
    },
    {
     "cell_type": "code",
     "metadata": {},
     "outputs": [
      {
       "output_type": "pyout",
       "prompt_number": 46,
       "text": [
        "\"let's go to the classroom\""
       ],
       "metadata": {}
      }
     ],
     "input": [
      "s3 = \"let's go to the classroom\"\n",
      "s3"
     ],
     "language": "python",
     "prompt_number": 46
    },
    {
     "cell_type": "code",
     "metadata": {},
     "outputs": [],
     "input": [
      "s4 = \"nesta string eu tenho aspas simples (') e aspas duplas(\\\")\""
     ],
     "language": "python",
     "prompt_number": 47
    },
    {
     "cell_type": "code",
     "metadata": {},
     "outputs": [
      {
       "output_type": "pyout",
       "prompt_number": 48,
       "text": [
        "'nesta string eu tenho aspas simples (\\') e aspas duplas(\")'"
       ],
       "metadata": {}
      }
     ],
     "input": [
      "s4"
     ],
     "language": "python",
     "prompt_number": 48
    },
    {
     "cell_type": "code",
     "metadata": {},
     "outputs": [
      {
       "output_type": "stream",
       "stream": "stdout",
       "text": [
        "nesta string eu tenho aspas simples (') e aspas duplas(\")\n"
       ]
      }
     ],
     "input": [
      "print(s4)"
     ],
     "language": "python",
     "prompt_number": 49
    },
    {
     "cell_type": "code",
     "metadata": {},
     "outputs": [
      {
       "output_type": "pyout",
       "prompt_number": 50,
       "text": [
        "\"let's stress\""
       ],
       "metadata": {}
      }
     ],
     "input": [
      "s5 = 'let\\'s stress'\n",
      "s5"
     ],
     "language": "python",
     "prompt_number": 50
    },
    {
     "cell_type": "code",
     "metadata": {},
     "outputs": [
      {
       "output_type": "pyout",
       "prompt_number": 51,
       "text": [
        "'uma stringoutra string'"
       ],
       "metadata": {}
      }
     ],
     "input": [
      "s1+s2"
     ],
     "language": "python",
     "prompt_number": 51
    },
    {
     "cell_type": "code",
     "metadata": {},
     "outputs": [
      {
       "output_type": "pyout",
       "prompt_number": 52,
       "text": [
        "'uma string outra string'"
       ],
       "metadata": {}
      }
     ],
     "input": [
      "s1+' '+s2"
     ],
     "language": "python",
     "prompt_number": 52
    },
    {
     "cell_type": "code",
     "metadata": {},
     "outputs": [
      {
       "output_type": "stream",
       "stream": "stdout",
       "text": [
        "um comando que ocupe duas ou mais linhas\n"
       ]
      }
     ],
     "input": [
      "print('um comando' + ' ' + 'que ocupe' + ' ' + 'duas ou mais linhas')"
     ],
     "language": "python",
     "prompt_number": 53
    },
    {
     "cell_type": "code",
     "metadata": {},
     "outputs": [
      {
       "output_type": "pyout",
       "prompt_number": 54,
       "text": [
        "'uma string'"
       ],
       "metadata": {}
      }
     ],
     "input": [
      "s1"
     ],
     "language": "python",
     "prompt_number": 54
    },
    {
     "cell_type": "code",
     "metadata": {},
     "outputs": [
      {
       "output_type": "pyout",
       "prompt_number": 55,
       "text": [
        "'João'"
       ],
       "metadata": {}
      }
     ],
     "input": [
      "s6 = 'João'\n",
      "s6"
     ],
     "language": "python",
     "prompt_number": 55
    },
    {
     "cell_type": "code",
     "metadata": {},
     "outputs": [
      {
       "output_type": "stream",
       "stream": "stdout",
       "text": [
        "João\n"
       ]
      }
     ],
     "input": [
      "print(s6)"
     ],
     "language": "python",
     "prompt_number": 56
    },
    {
     "cell_type": "code",
     "metadata": {},
     "outputs": [
      {
       "output_type": "pyout",
       "prompt_number": 57,
       "text": [
        "'nest@ string eu tenho @sp@s simples (\\') e @sp@s dupl@s(\")'"
       ],
       "metadata": {}
      }
     ],
     "input": [
      "s4.replace('a','@')"
     ],
     "language": "python",
     "prompt_number": 57
    },
    {
     "cell_type": "code",
     "metadata": {},
     "outputs": [
      {
       "output_type": "pyout",
       "prompt_number": 58,
       "text": [
        "28"
       ],
       "metadata": {}
      }
     ],
     "input": [
      "s4.find('simples')"
     ],
     "language": "python",
     "prompt_number": 58
    },
    {
     "cell_type": "code",
     "metadata": {},
     "outputs": [
      {
       "output_type": "pyout",
       "prompt_number": 59,
       "text": [
        "'simples (\\') e aspas duplas(\")'"
       ],
       "metadata": {}
      }
     ],
     "input": [
      "s4[28:]"
     ],
     "language": "python",
     "prompt_number": 59
    },
    {
     "cell_type": "code",
     "metadata": {},
     "outputs": [
      {
       "output_type": "pyout",
       "prompt_number": 60,
       "text": [
        "'nesta stri'"
       ],
       "metadata": {}
      }
     ],
     "input": [
      "s4[:10]"
     ],
     "language": "python",
     "prompt_number": 60
    },
    {
     "cell_type": "heading",
     "metadata": {},
     "level": 4,
     "source": [
      "Tipo Booleano"
     ]
    },
    {
     "cell_type": "code",
     "metadata": {},
     "outputs": [
      {
       "output_type": "pyout",
       "prompt_number": 61,
       "text": [
        "False"
       ],
       "metadata": {}
      }
     ],
     "input": [
      "'RENATO'.islower()"
     ],
     "language": "python",
     "prompt_number": 61
    },
    {
     "cell_type": "code",
     "metadata": {},
     "outputs": [],
     "input": [
      "b1 = True"
     ],
     "language": "python",
     "prompt_number": 62
    },
    {
     "cell_type": "code",
     "metadata": {},
     "outputs": [],
     "input": [
      "b2 = False"
     ],
     "language": "python",
     "prompt_number": 63
    },
    {
     "cell_type": "code",
     "metadata": {},
     "outputs": [
      {
       "output_type": "pyout",
       "prompt_number": 64,
       "text": [
        "False"
       ],
       "metadata": {}
      }
     ],
     "input": [
      "b1 == b2"
     ],
     "language": "python",
     "prompt_number": 64
    },
    {
     "cell_type": "code",
     "metadata": {},
     "outputs": [
      {
       "output_type": "pyout",
       "prompt_number": 65,
       "text": [
        "False"
       ],
       "metadata": {}
      }
     ],
     "input": [
      "2 == 5"
     ],
     "language": "python",
     "prompt_number": 65
    },
    {
     "cell_type": "code",
     "metadata": {},
     "outputs": [
      {
       "output_type": "pyout",
       "prompt_number": 66,
       "text": [
        "bool"
       ],
       "metadata": {}
      }
     ],
     "input": [
      "type(2 == 7)"
     ],
     "language": "python",
     "prompt_number": 66
    },
    {
     "cell_type": "code",
     "metadata": {},
     "outputs": [
      {
       "output_type": "pyout",
       "prompt_number": 67,
       "text": [
        "False"
       ],
       "metadata": {}
      }
     ],
     "input": [
      "4 != 4"
     ],
     "language": "python",
     "prompt_number": 67
    },
    {
     "cell_type": "code",
     "metadata": {},
     "outputs": [],
     "input": [
      "if (9 > 6) and (2 == (1 + 1)) and (7 == 8):\n",
      "    print('Correto')"
     ],
     "language": "python",
     "prompt_number": 68
    },
    {
     "cell_type": "heading",
     "metadata": {},
     "level": 4,
     "source": [
      "Tipo Conjunto (sets)"
     ]
    },
    {
     "cell_type": "code",
     "metadata": {},
     "outputs": [],
     "input": [
      "c1 = {1,2,3,3,3,3,3,4}"
     ],
     "language": "python",
     "prompt_number": 69
    },
    {
     "cell_type": "code",
     "metadata": {},
     "outputs": [
      {
       "output_type": "pyout",
       "prompt_number": 70,
       "text": [
        "{1, 2, 3, 4}"
       ],
       "metadata": {}
      }
     ],
     "input": [
      "c1"
     ],
     "language": "python",
     "prompt_number": 70
    },
    {
     "cell_type": "code",
     "metadata": {},
     "outputs": [],
     "input": [
      "c2 = set([1,2,3,4])"
     ],
     "language": "python",
     "prompt_number": 71
    },
    {
     "cell_type": "code",
     "metadata": {},
     "outputs": [
      {
       "output_type": "pyout",
       "prompt_number": 72,
       "text": [
        "{1, 2, 3, 4}"
       ],
       "metadata": {}
      }
     ],
     "input": [
      "c2"
     ],
     "language": "python",
     "prompt_number": 72
    },
    {
     "cell_type": "code",
     "metadata": {},
     "outputs": [],
     "input": [
      "lista3 = [1,2,3,'string']"
     ],
     "language": "python",
     "prompt_number": 94
    },
    {
     "cell_type": "code",
     "metadata": {},
     "outputs": [],
     "input": [
      "conjunto = set(lista3)"
     ],
     "language": "python",
     "prompt_number": 95
    },
    {
     "cell_type": "code",
     "metadata": {},
     "outputs": [
      {
       "output_type": "pyout",
       "prompt_number": 96,
       "text": [
        "{1, 2, 3, 'string'}"
       ],
       "metadata": {}
      }
     ],
     "input": [
      "conjunto"
     ],
     "language": "python",
     "prompt_number": 96
    },
    {
     "cell_type": "code",
     "metadata": {},
     "outputs": [],
     "input": [
      "conjunto2 = conjunto.union([9,8,7])"
     ],
     "language": "python",
     "prompt_number": 100
    },
    {
     "cell_type": "code",
     "metadata": {},
     "outputs": [
      {
       "output_type": "pyout",
       "prompt_number": 101,
       "text": [
        "{1, 2, 3, 7, 8, 9, 12, 'string'}"
       ],
       "metadata": {}
      }
     ],
     "input": [
      "conjunto2"
     ],
     "language": "python",
     "prompt_number": 101
    },
    {
     "cell_type": "code",
     "metadata": {},
     "outputs": [
      {
       "output_type": "pyout",
       "prompt_number": 102,
       "text": [
        "{1, 2, 3, 'string', 12}"
       ],
       "metadata": {}
      }
     ],
     "input": [
      "conjunto.intersection(conjunto2)"
     ],
     "language": "python",
     "prompt_number": 102
    },
    {
     "cell_type": "code",
     "metadata": {},
     "outputs": [],
     "input": [
      "lista3 = list(conjunto)"
     ],
     "language": "python",
     "prompt_number": 103
    },
    {
     "cell_type": "code",
     "metadata": {},
     "outputs": [],
     "input": [
      "conjunto4 = set('uma string legal')"
     ],
     "language": "python",
     "prompt_number": 112
    },
    {
     "cell_type": "code",
     "metadata": {},
     "outputs": [
      {
       "output_type": "pyout",
       "prompt_number": 113,
       "text": [
        "{' ', 'a', 'e', 'g', 'i', 'l', 'm', 'n', 'r', 's', 't', 'u'}"
       ],
       "metadata": {}
      }
     ],
     "input": [
      "conjunto4"
     ],
     "language": "python",
     "prompt_number": 113
    },
    {
     "cell_type": "code",
     "metadata": {},
     "outputs": [],
     "input": [
      "texto = '''\n",
      "There are two candidates for the TIOBE programming language of the year award that will be announced around the 1st of January 2015. These are statistical language R (+1.38%) and Apple's new Swift language (+1.06%). Apart from these, also JavaScript and Dart have a chance to win. The award is given to the language with the highest increase in ratings in 2014. Visual Basic has the highest delta but it doesn't qualify for the award because it has been introduced as a split off of the general Basic entry. \n",
      "'''"
     ],
     "language": "python",
     "prompt_number": 115
    },
    {
     "cell_type": "code",
     "metadata": {},
     "outputs": [
      {
       "output_type": "pyout",
       "prompt_number": 122,
       "text": [
        "\"\\nThere are two candidates for the TIOBE programming language of the year award that will be announced around the 1st of January 2015. These are statistical language R (+1.38%) and Apple's new Swift language (+1.06%). Apart from these, also JavaScript and Dart have a chance to win. The award is given to the language with the highest increase in ratings in 2014. Visual Basic has the highest delta but it doesn't qualify for the award because it has been introduced as a split off of the general Basic entry. \\n\""
       ],
       "metadata": {}
      }
     ],
     "input": [
      "texto"
     ],
     "language": "python",
     "prompt_number": 122
    },
    {
     "cell_type": "code",
     "metadata": {},
     "outputs": [],
     "input": [
      "lista_palavras = texto.split(' ')\n",
      "#lista_palavras"
     ],
     "language": "python",
     "prompt_number": 132
    },
    {
     "cell_type": "code",
     "metadata": {},
     "outputs": [],
     "input": [
      "palavras_unicas = set(lista_palavras)"
     ],
     "language": "python",
     "prompt_number": 133
    },
    {
     "cell_type": "code",
     "metadata": {},
     "outputs": [
      {
       "output_type": "stream",
       "stream": "stdout",
       "text": [
        "90\n",
        "66\n"
       ]
      }
     ],
     "input": [
      "print(len(lista_palavras))\n",
      "print(len(palavras_unicas))"
     ],
     "language": "python",
     "prompt_number": 134
    },
    {
     "cell_type": "code",
     "metadata": {},
     "outputs": [
      {
       "output_type": "pyout",
       "prompt_number": 139,
       "text": [
        "\"\\nThere are two candidates for the TIOBE programming language of the year award that will be announced around the 1st of January 2015. These are statistical language R (+1.38%) and Apple's new Swift language (+1.06%). Apart from these, also JavaScript and Dart have a chance to win. The award is given to the language with the highest increase in ratings in 2014. Visual Basic has the highest delta but it doesn't qualify for the award because it has been introduced as a split off of the general Basic entry. \\n\""
       ],
       "metadata": {}
      }
     ],
     "input": [
      "' '.join(lista_palavras)"
     ],
     "language": "python",
     "prompt_number": 139
    },
    {
     "cell_type": "heading",
     "metadata": {},
     "level": 4,
     "source": [
      "Tipo Dicionário"
     ]
    },
    {
     "cell_type": "code",
     "metadata": {},
     "outputs": [],
     "input": [
      "dic = {'chave1':1,'chave2':2,'outra chave':4,45:26}"
     ],
     "language": "python",
     "prompt_number": 1
    },
    {
     "cell_type": "code",
     "metadata": {},
     "outputs": [
      {
       "output_type": "pyout",
       "prompt_number": 2,
       "text": [
        "{'outra chave': 4, 'chave2': 2, 45: 26, 'chave1': 1}"
       ],
       "metadata": {}
      }
     ],
     "input": [
      "dic"
     ],
     "language": "python",
     "prompt_number": 2
    },
    {
     "cell_type": "code",
     "metadata": {},
     "outputs": [],
     "input": [
      "ficha = {'Peso':73, 'Altura':183, 'Idade':44, 'Nome':'Renato'}"
     ],
     "language": "python",
     "prompt_number": 3
    },
    {
     "cell_type": "code",
     "metadata": {},
     "outputs": [
      {
       "output_type": "pyout",
       "prompt_number": 4,
       "text": [
        "{'Altura': 183, 'Peso': 73, 'Idade': 44, 'Nome': 'Renato'}"
       ],
       "metadata": {}
      }
     ],
     "input": [
      "ficha"
     ],
     "language": "python",
     "prompt_number": 4
    },
    {
     "cell_type": "code",
     "metadata": {},
     "outputs": [
      {
       "output_type": "pyout",
       "prompt_number": 6,
       "text": [
        "44"
       ],
       "metadata": {}
      }
     ],
     "input": [
      "ficha['Idade']"
     ],
     "language": "python",
     "prompt_number": 6
    },
    {
     "cell_type": "markdown",
     "metadata": {},
     "source": [
      "Exercício:  \n",
      "Criar uma estrutura de dados para representar as notas de 3 avaliações (A1, A2 e AS) em três \n",
      "disciplinas (Matemática, História e Geografia)"
     ]
    },
    {
     "cell_type": "code",
     "metadata": {},
     "outputs": [],
     "input": [
      "boletim = {'Matemática':{'A1':9.0, 'A2':8.0,'AS':4.0},\n",
      "           'História':{'A1':9.0, 'A2':8.0,'AS':4.0},\n",
      "           'Geografia':{'A1':9.0, 'A2':8.0,'AS':4.0}}"
     ],
     "language": "python",
     "prompt_number": 9
    },
    {
     "cell_type": "code",
     "metadata": {},
     "outputs": [
      {
       "output_type": "pyout",
       "prompt_number": 10,
       "text": [
        "{'Matemática': {'A1': 9.0, 'A2': 8.0, 'AS': 4.0},\n",
        " 'História': {'A1': 9.0, 'A2': 8.0, 'AS': 4.0},\n",
        " 'Geografia': {'A1': 9.0, 'A2': 8.0, 'AS': 4.0}}"
       ],
       "metadata": {}
      }
     ],
     "input": [
      "boletim"
     ],
     "language": "python",
     "prompt_number": 10
    },
    {
     "cell_type": "code",
     "metadata": {},
     "outputs": [
      {
       "output_type": "pyout",
       "prompt_number": 12,
       "text": [
        "8.0"
       ],
       "metadata": {}
      }
     ],
     "input": [
      "boletim['Matemática']['A2']"
     ],
     "language": "python",
     "prompt_number": 12
    },
    {
     "cell_type": "code",
     "metadata": {},
     "outputs": [
      {
       "output_type": "pyout",
       "prompt_number": 15,
       "text": [
        "dict_values([9.0, 8.0, 4.0])"
       ],
       "metadata": {}
      }
     ],
     "input": [
      "boletim['Matemática'].values()"
     ],
     "language": "python",
     "prompt_number": 15
    },
    {
     "cell_type": "code",
     "metadata": {},
     "outputs": [],
     "input": [
      "newdic = {}"
     ],
     "language": "python",
     "prompt_number": 32
    },
    {
     "cell_type": "code",
     "metadata": {},
     "outputs": [
      {
       "output_type": "pyout",
       "prompt_number": 33,
       "text": [
        "{}"
       ],
       "metadata": {}
      }
     ],
     "input": [
      "newdic"
     ],
     "language": "python",
     "prompt_number": 33
    },
    {
     "cell_type": "code",
     "metadata": {},
     "outputs": [],
     "input": [
      "newdic['elemento1'] = 23"
     ],
     "language": "python",
     "prompt_number": 34
    },
    {
     "cell_type": "code",
     "metadata": {},
     "outputs": [
      {
       "output_type": "pyout",
       "prompt_number": 35,
       "text": [
        "{'elemento1': 23}"
       ],
       "metadata": {}
      }
     ],
     "input": [
      "newdic"
     ],
     "language": "python",
     "prompt_number": 35
    },
    {
     "cell_type": "code",
     "metadata": {},
     "outputs": [],
     "input": [
      "newdic.update({'um':2})"
     ],
     "language": "python",
     "prompt_number": 40
    },
    {
     "cell_type": "code",
     "metadata": {},
     "outputs": [
      {
       "output_type": "pyout",
       "prompt_number": 41,
       "text": [
        "{'elemento1': 23, 'um': 2}"
       ],
       "metadata": {}
      }
     ],
     "input": [
      "newdic"
     ],
     "language": "python",
     "prompt_number": 41
    },
    {
     "cell_type": "code",
     "metadata": {},
     "outputs": [],
     "input": [
      "newdic['um'] = 1"
     ],
     "language": "python",
     "prompt_number": 42
    },
    {
     "cell_type": "code",
     "metadata": {},
     "outputs": [
      {
       "output_type": "pyout",
       "prompt_number": 43,
       "text": [
        "{'elemento1': 23, 'um': 1}"
       ],
       "metadata": {}
      }
     ],
     "input": [
      "newdic"
     ],
     "language": "python",
     "prompt_number": 43
    },
    {
     "cell_type": "code",
     "metadata": {},
     "outputs": [],
     "input": [
      "d2 = {}\n",
      "d1 = {1:d2}\n",
      "d2 = {2:d1}"
     ],
     "language": "python",
     "prompt_number": 44
    },
    {
     "cell_type": "code",
     "metadata": {},
     "outputs": [
      {
       "output_type": "pyout",
       "prompt_number": 45,
       "text": [
        "{1: {}}"
       ],
       "metadata": {}
      }
     ],
     "input": [
      "d1"
     ],
     "language": "python",
     "prompt_number": 45
    },
    {
     "cell_type": "code",
     "metadata": {},
     "outputs": [
      {
       "output_type": "pyout",
       "prompt_number": 46,
       "text": [
        "{2: {1: {}}}"
       ],
       "metadata": {}
      }
     ],
     "input": [
      "d2"
     ],
     "language": "python",
     "prompt_number": 46
    },
    {
     "cell_type": "code",
     "metadata": {},
     "outputs": [],
     "input": [
      "d1[2]='outro elemento'"
     ],
     "language": "python",
     "prompt_number": 47
    },
    {
     "cell_type": "code",
     "metadata": {},
     "outputs": [
      {
       "output_type": "pyout",
       "prompt_number": 48,
       "text": [
        "{2: {1: {}, 2: 'outro elemento'}}"
       ],
       "metadata": {}
      }
     ],
     "input": [
      "d2"
     ],
     "language": "python",
     "prompt_number": 48
    },
    {
     "cell_type": "heading",
     "metadata": {},
     "level": 4,
     "source": [
      "Tipo Tupla"
     ]
    },
    {
     "cell_type": "code",
     "metadata": {},
     "outputs": [],
     "input": [
      "t = (1,2,3)"
     ],
     "language": "python",
     "prompt_number": 49
    },
    {
     "cell_type": "code",
     "metadata": {},
     "outputs": [
      {
       "output_type": "pyout",
       "prompt_number": 50,
       "text": [
        "tuple"
       ],
       "metadata": {}
      }
     ],
     "input": [
      "type(t)"
     ],
     "language": "python",
     "prompt_number": 50
    },
    {
     "cell_type": "code",
     "metadata": {},
     "outputs": [
      {
       "output_type": "pyout",
       "prompt_number": 51,
       "text": [
        "1"
       ],
       "metadata": {}
      }
     ],
     "input": [
      "t[0]"
     ],
     "language": "python",
     "prompt_number": 51
    },
    {
     "cell_type": "code",
     "metadata": {},
     "outputs": [
      {
       "output_type": "pyout",
       "prompt_number": 52,
       "text": [
        "2"
       ],
       "metadata": {}
      }
     ],
     "input": [
      "t[1]"
     ],
     "language": "python",
     "prompt_number": 52
    },
    {
     "cell_type": "code",
     "metadata": {},
     "outputs": [],
     "input": [
      "lista = [1,2,3]"
     ],
     "language": "python",
     "prompt_number": 54
    },
    {
     "cell_type": "code",
     "metadata": {},
     "outputs": [],
     "input": [
      "tupla = tuple(lista)"
     ],
     "language": "python",
     "prompt_number": 55
    },
    {
     "cell_type": "code",
     "metadata": {},
     "outputs": [
      {
       "output_type": "pyout",
       "prompt_number": 56,
       "text": [
        "(1, 2, 3)"
       ],
       "metadata": {}
      }
     ],
     "input": [
      "tupla"
     ],
     "language": "python",
     "prompt_number": 56
    },
    {
     "cell_type": "code",
     "metadata": {},
     "outputs": [],
     "input": [
      "lista2 = list(tupla)"
     ],
     "language": "python",
     "prompt_number": 57
    },
    {
     "cell_type": "code",
     "metadata": {},
     "outputs": [
      {
       "output_type": "pyout",
       "prompt_number": 58,
       "text": [
        "[1, 2, 3]"
       ],
       "metadata": {}
      }
     ],
     "input": [
      "lista2"
     ],
     "language": "python",
     "prompt_number": 58
    },
    {
     "cell_type": "code",
     "metadata": {},
     "outputs": [],
     "input": [
      "d5 = {(1,2):'tupla'}"
     ],
     "language": "python",
     "prompt_number": 60
    },
    {
     "cell_type": "code",
     "metadata": {},
     "outputs": [
      {
       "output_type": "pyout",
       "prompt_number": 62,
       "text": [
        "2.0"
       ],
       "metadata": {}
      }
     ],
     "input": [
      "numpy.mean([1,2,3])"
     ],
     "language": "python",
     "prompt_number": 62
    },
    {
     "cell_type": "code",
     "metadata": {},
     "outputs": [],
     "input": [
      "t2 = (2,4,7,2,2,2,2)"
     ],
     "language": "python",
     "prompt_number": 65
    },
    {
     "cell_type": "code",
     "metadata": {},
     "outputs": [
      {
       "output_type": "pyout",
       "prompt_number": 66,
       "text": [
        "5"
       ],
       "metadata": {}
      }
     ],
     "input": [
      "t2.count(2)"
     ],
     "language": "python",
     "prompt_number": 66
    },
    {
     "cell_type": "code",
     "metadata": {},
     "outputs": [],
     "input": [
      "a = 45"
     ],
     "language": "python",
     "prompt_number": 67
    },
    {
     "cell_type": "code",
     "metadata": {},
     "outputs": [],
     "input": [
      "t = (a,a,a,a,a)"
     ],
     "language": "python",
     "prompt_number": 68
    },
    {
     "cell_type": "code",
     "metadata": {},
     "outputs": [
      {
       "output_type": "pyout",
       "prompt_number": 69,
       "text": [
        "(45, 45, 45, 45, 45)"
       ],
       "metadata": {}
      }
     ],
     "input": [
      "t"
     ],
     "language": "python",
     "prompt_number": 69
    },
    {
     "cell_type": "code",
     "metadata": {},
     "outputs": [],
     "input": [
      "a = 23"
     ],
     "language": "python",
     "prompt_number": 70
    },
    {
     "cell_type": "code",
     "metadata": {},
     "outputs": [
      {
       "output_type": "pyout",
       "prompt_number": 71,
       "text": [
        "(45, 45, 45, 45, 45)"
       ],
       "metadata": {}
      }
     ],
     "input": [
      "t"
     ],
     "language": "python",
     "prompt_number": 71
    },
    {
     "cell_type": "code",
     "metadata": {},
     "outputs": [],
     "input": [
      "l = [a,a,a,a]"
     ],
     "language": "python",
     "prompt_number": 72
    },
    {
     "cell_type": "code",
     "metadata": {},
     "outputs": [
      {
       "output_type": "pyout",
       "prompt_number": 73,
       "text": [
        "[23, 23, 23, 23]"
       ],
       "metadata": {}
      }
     ],
     "input": [
      "l"
     ],
     "language": "python",
     "prompt_number": 73
    },
    {
     "cell_type": "code",
     "metadata": {},
     "outputs": [],
     "input": [
      "a = 34"
     ],
     "language": "python",
     "prompt_number": 74
    },
    {
     "cell_type": "code",
     "metadata": {},
     "outputs": [
      {
       "output_type": "pyout",
       "prompt_number": 75,
       "text": [
        "[23, 23, 23, 23]"
       ],
       "metadata": {}
      }
     ],
     "input": [
      "l"
     ],
     "language": "python",
     "prompt_number": 75
    },
    {
     "cell_type": "code",
     "metadata": {},
     "outputs": [],
     "input": [
      "l1 = [1,2]\n",
      "l2 = [l1, l1, l1]"
     ],
     "language": "python",
     "prompt_number": 76
    },
    {
     "cell_type": "code",
     "metadata": {},
     "outputs": [
      {
       "output_type": "pyout",
       "prompt_number": 77,
       "text": [
        "[[1, 2], [1, 2], [1, 2]]"
       ],
       "metadata": {}
      }
     ],
     "input": [
      "l2"
     ],
     "language": "python",
     "prompt_number": 77
    },
    {
     "cell_type": "code",
     "metadata": {},
     "outputs": [],
     "input": [
      "l1 = [2,1]"
     ],
     "language": "python",
     "prompt_number": 78
    },
    {
     "cell_type": "code",
     "metadata": {},
     "outputs": [
      {
       "output_type": "pyout",
       "prompt_number": 79,
       "text": [
        "[[1, 2], [1, 2], [1, 2]]"
       ],
       "metadata": {}
      }
     ],
     "input": [
      "l2"
     ],
     "language": "python",
     "prompt_number": 79
    },
    {
     "cell_type": "code",
     "metadata": {},
     "outputs": [],
     "input": [
      "l3 = [2,3]\n",
      "l4 = l3"
     ],
     "language": "python",
     "prompt_number": 80
    },
    {
     "cell_type": "code",
     "metadata": {},
     "outputs": [
      {
       "output_type": "pyout",
       "prompt_number": 81,
       "text": [
        "[2, 3]"
       ],
       "metadata": {}
      }
     ],
     "input": [
      "l3"
     ],
     "language": "python",
     "prompt_number": 81
    },
    {
     "cell_type": "code",
     "metadata": {},
     "outputs": [
      {
       "output_type": "pyout",
       "prompt_number": 82,
       "text": [
        "[2, 3]"
       ],
       "metadata": {}
      }
     ],
     "input": [
      "l4"
     ],
     "language": "python",
     "prompt_number": 82
    },
    {
     "cell_type": "code",
     "metadata": {},
     "outputs": [],
     "input": [
      "l3 = [3,2]"
     ],
     "language": "python",
     "prompt_number": 85
    },
    {
     "cell_type": "code",
     "metadata": {},
     "outputs": [
      {
       "output_type": "pyout",
       "prompt_number": 86,
       "text": [
        "[2, 3]"
       ],
       "metadata": {}
      }
     ],
     "input": [
      "l4"
     ],
     "language": "python",
     "prompt_number": 86
    },
    {
     "cell_type": "code",
     "metadata": {},
     "outputs": [],
     "input": [
      "x1 = 2"
     ],
     "language": "python",
     "prompt_number": 87
    },
    {
     "cell_type": "code",
     "metadata": {},
     "outputs": [],
     "input": [
      "x2 = x1"
     ],
     "language": "python",
     "prompt_number": 88
    },
    {
     "cell_type": "code",
     "metadata": {},
     "outputs": [],
     "input": [
      "x1 = 23"
     ],
     "language": "python",
     "prompt_number": 89
    },
    {
     "cell_type": "code",
     "metadata": {},
     "outputs": [
      {
       "output_type": "pyout",
       "prompt_number": 90,
       "text": [
        "2"
       ],
       "metadata": {}
      }
     ],
     "input": [
      "x2"
     ],
     "language": "python",
     "prompt_number": 90
    },
    {
     "cell_type": "heading",
     "metadata": {},
     "level": 4,
     "source": [
      "Várias formas para importação de módulos:"
     ]
    },
    {
     "cell_type": "code",
     "metadata": {},
     "outputs": [],
     "input": [
      "import math\n",
      "import numpy\n",
      "from math import *\n",
      "from numpy import mean\n",
      "import numpy as np"
     ],
     "language": "python",
     "prompt_number": 1
    },
    {
     "cell_type": "code",
     "metadata": {},
     "outputs": [
      {
       "output_type": "pyout",
       "prompt_number": 2,
       "text": [
        "5.5"
       ],
       "metadata": {}
      }
     ],
     "input": [
      "mean([2,7,4,9])"
     ],
     "language": "python",
     "prompt_number": 2
    },
    {
     "cell_type": "code",
     "metadata": {},
     "outputs": [
      {
       "output_type": "pyout",
       "prompt_number": 3,
       "text": [
        "3.141592653589793"
       ],
       "metadata": {}
      }
     ],
     "input": [
      "numpy.pi"
     ],
     "language": "python",
     "prompt_number": 3
    },
    {
     "cell_type": "code",
     "metadata": {},
     "outputs": [
      {
       "output_type": "pyout",
       "prompt_number": 4,
       "text": [
        "3.141592653589793"
       ],
       "metadata": {}
      }
     ],
     "input": [
      "math.pi"
     ],
     "language": "python",
     "prompt_number": 4
    },
    {
     "cell_type": "code",
     "metadata": {},
     "outputs": [
      {
       "output_type": "pyout",
       "prompt_number": 5,
       "text": [
        "True"
       ],
       "metadata": {}
      }
     ],
     "input": [
      "math.pi == numpy.pi"
     ],
     "language": "python",
     "prompt_number": 5
    },
    {
     "cell_type": "code",
     "metadata": {},
     "outputs": [
      {
       "output_type": "pyout",
       "prompt_number": 6,
       "text": [
        "3.141592653589793"
       ],
       "metadata": {}
      }
     ],
     "input": [
      "np.pi"
     ],
     "language": "python",
     "prompt_number": 6
    }
   ]
  }
 ],
 "cells": [],
 "metadata": {
  "name": "",
  "signature": "sha256:6ea7a747621513b98a283d5be3221d97b391db5eaa4a0a9c71fd889ae58c0567"
 },
 "nbformat": 3,
 "nbformat_minor": 0
}