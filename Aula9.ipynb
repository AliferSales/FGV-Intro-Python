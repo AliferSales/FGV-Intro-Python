{
 "worksheets": [
  {
   "cells": [
    {
     "cell_type": "markdown",
     "metadata": {},
     "source": [
      "FGV - Escola de Matemática Aplicada\n",
      "==\n",
      "Curso de Verão - Introdução à Programação com a Linguagem Python\n",
      "--"
     ]
    },
    {
     "cell_type": "heading",
     "metadata": {},
     "level": 4,
     "source": [
      "Classes:"
     ]
    },
    {
     "cell_type": "heading",
     "metadata": {},
     "level": 6,
     "source": [
      "Falando um pouco de escopo:"
     ]
    },
    {
     "cell_type": "code",
     "metadata": {},
     "outputs": [
      {
       "output_type": "stream",
       "stream": "stdout",
       "text": [
        "fulano\n",
        "None\n"
       ]
      }
     ],
     "input": [
      "x = 'fulano'\n",
      "def escopo1():\n",
      "    x = 'sicrano'\n",
      "    def escopo2():\n",
      "        global x \n",
      "        x = 'beltrano'\n",
      "        return x\n",
      "        print(x)\n",
      "    x = escopo2()\n",
      "    \n",
      "print(x)\n",
      "x = escopo1()\n",
      "print(x)"
     ],
     "language": "python",
     "prompt_number": 19
    },
    {
     "cell_type": "markdown",
     "metadata": {},
     "source": [
      "Recordando: métodos de tipos mutáveis e métodos de tipos imutáveis"
     ]
    },
    {
     "cell_type": "code",
     "metadata": {},
     "outputs": [
      {
       "output_type": "stream",
       "stream": "stdout",
       "text": [
        "None\n",
        "[1, 2, 3]\n"
       ]
      }
     ],
     "input": [
      "l = [3,2,1]\n",
      "m = l.sort()\n",
      "print(m)\n",
      "print(l)"
     ],
     "language": "python",
     "prompt_number": 22
    },
    {
     "cell_type": "code",
     "metadata": {},
     "outputs": [
      {
       "output_type": "stream",
       "stream": "stdout",
       "text": [
        "Renato\n",
        "RENATO\n"
       ]
      }
     ],
     "input": [
      "s = 'Renato'\n",
      "z = s.upper()\n",
      "print(s)\n",
      "print(z)"
     ],
     "language": "python",
     "prompt_number": 26
    },
    {
     "cell_type": "code",
     "metadata": {},
     "outputs": [
      {
       "output_type": "stream",
       "stream": "stdout",
       "text": [
        "After local assignment: test spam\n",
        "After nonlocal assignment: nonlocal spam\n",
        "After global assignment: nonlocal spam\n",
        "In global scope: global spam\n"
       ]
      }
     ],
     "input": [
      "def scope_test():\n",
      "    def do_local():\n",
      "        spam = \"local spam\"\n",
      "        \n",
      "    def do_nonlocal():\n",
      "        nonlocal spam\n",
      "        spam = \"nonlocal spam\"\n",
      "        \n",
      "    def do_global():\n",
      "        global spam\n",
      "        spam = \"global spam\"\n",
      "        \n",
      "    spam = \"test spam\"\n",
      "    do_local()\n",
      "\n",
      "    print(\"After local assignment:\", spam)\n",
      "    do_nonlocal()\n",
      "    print(\"After nonlocal assignment:\", spam)\n",
      "    do_global()\n",
      "    print(\"After global assignment:\", spam)\n",
      "\n",
      "scope_test()\n",
      "print(\"In global scope:\", spam)"
     ],
     "language": "python",
     "prompt_number": 29
    },
    {
     "cell_type": "code",
     "metadata": {},
     "outputs": [],
     "input": [
      ""
     ],
     "language": "python"
    },
    {
     "cell_type": "code",
     "metadata": {},
     "outputs": [],
     "input": [
      ""
     ],
     "language": "python"
    },
    {
     "cell_type": "code",
     "metadata": {},
     "outputs": [],
     "input": [
      ""
     ],
     "language": "python"
    },
    {
     "cell_type": "code",
     "metadata": {},
     "outputs": [],
     "input": [
      ""
     ],
     "language": "python"
    },
    {
     "cell_type": "code",
     "metadata": {},
     "outputs": [],
     "input": [
      ""
     ],
     "language": "python"
    },
    {
     "cell_type": "code",
     "metadata": {},
     "outputs": [],
     "input": [
      ""
     ],
     "language": "python"
    },
    {
     "cell_type": "code",
     "metadata": {},
     "outputs": [],
     "input": [
      "def minha_funcao():\n",
      "    '''Aqui vai a documentação'''\n",
      "    print('Renato')"
     ],
     "language": "python",
     "prompt_number": 35
    },
    {
     "cell_type": "code",
     "metadata": {},
     "outputs": [],
     "input": [
      "minha_funcao?"
     ],
     "language": "python",
     "prompt_number": 36
    },
    {
     "cell_type": "code",
     "metadata": {},
     "outputs": [],
     "input": [
      "class MyClass:\n",
      "    \"\"\"Exemplo Simples\"\"\"\n",
      "    propriedade = 1234\n",
      "    def metodo(self):\n",
      "        return 'Olá povo!'"
     ],
     "language": "python",
     "prompt_number": 51
    },
    {
     "cell_type": "code",
     "metadata": {},
     "outputs": [],
     "input": [
      "x = MyClass()"
     ],
     "language": "python",
     "prompt_number": 52
    },
    {
     "cell_type": "code",
     "metadata": {},
     "outputs": [
      {
       "output_type": "pyout",
       "prompt_number": 53,
       "text": [
        "1234"
       ],
       "metadata": {}
      }
     ],
     "input": [
      "x.propriedade"
     ],
     "language": "python",
     "prompt_number": 53
    },
    {
     "cell_type": "code",
     "metadata": {},
     "outputs": [
      {
       "output_type": "pyout",
       "prompt_number": 54,
       "text": [
        "'Olá povo!'"
       ],
       "metadata": {}
      }
     ],
     "input": [
      "x.metodo()"
     ],
     "language": "python",
     "prompt_number": 54
    },
    {
     "cell_type": "code",
     "metadata": {},
     "outputs": [],
     "input": [
      "x?"
     ],
     "language": "python",
     "prompt_number": 55
    },
    {
     "cell_type": "code",
     "metadata": {},
     "outputs": [
      {
       "output_type": "pyout",
       "prompt_number": 58,
       "text": [
        "'Olá povo!'"
       ],
       "metadata": {}
      }
     ],
     "input": [
      "x.metodo()"
     ],
     "language": "python",
     "prompt_number": 58
    },
    {
     "cell_type": "code",
     "metadata": {},
     "outputs": [],
     "input": [
      "class Complex:\n",
      "    def __init__(self, realpart, imagpart):\n",
      "        self.r = realpart\n",
      "        self.i = imagpart"
     ],
     "language": "python",
     "prompt_number": 60
    },
    {
     "cell_type": "code",
     "metadata": {},
     "outputs": [],
     "input": [
      "z = Complex(3.0, -4.5)"
     ],
     "language": "python",
     "prompt_number": 61
    },
    {
     "cell_type": "code",
     "metadata": {},
     "outputs": [
      {
       "output_type": "pyout",
       "prompt_number": 62,
       "text": [
        "3.0"
       ],
       "metadata": {}
      }
     ],
     "input": [
      "z.r"
     ],
     "language": "python",
     "prompt_number": 62
    },
    {
     "cell_type": "code",
     "metadata": {},
     "outputs": [
      {
       "output_type": "pyout",
       "prompt_number": 63,
       "text": [
        "-4.5"
       ],
       "metadata": {}
      }
     ],
     "input": [
      "z.i"
     ],
     "language": "python",
     "prompt_number": 63
    },
    {
     "cell_type": "code",
     "metadata": {},
     "outputs": [],
     "input": [
      "j = Complex(2,4)"
     ],
     "language": "python",
     "prompt_number": 68
    },
    {
     "cell_type": "code",
     "metadata": {},
     "outputs": [
      {
       "output_type": "pyout",
       "prompt_number": 69,
       "text": [
        "4"
       ],
       "metadata": {}
      }
     ],
     "input": [
      "j.i"
     ],
     "language": "python",
     "prompt_number": 69
    },
    {
     "cell_type": "code",
     "metadata": {},
     "outputs": [],
     "input": [
      "class NovaClasse:\n",
      "    prop1 = 'texto'"
     ],
     "language": "python",
     "prompt_number": 135
    },
    {
     "cell_type": "code",
     "metadata": {},
     "outputs": [],
     "input": [
      "x = NovaClasse()\n",
      "y = NovaClasse"
     ],
     "language": "python",
     "prompt_number": 136
    },
    {
     "cell_type": "code",
     "metadata": {},
     "outputs": [
      {
       "output_type": "stream",
       "stream": "stdout",
       "text": [
        "texto\n",
        "Mudei\n"
       ]
      }
     ],
     "input": [
      "print(x.prop1)\n",
      "x.prop1 = 'Mudei'\n",
      "print(x.prop1)"
     ],
     "language": "python",
     "prompt_number": 137
    },
    {
     "cell_type": "code",
     "metadata": {},
     "outputs": [
      {
       "output_type": "pyout",
       "prompt_number": 138,
       "text": [
        "'texto'"
       ],
       "metadata": {}
      }
     ],
     "input": [
      "a = NovaClasse()\n",
      "a.prop1"
     ],
     "language": "python",
     "prompt_number": 138
    },
    {
     "cell_type": "code",
     "metadata": {},
     "outputs": [],
     "input": [
      "y.prop1 = 'mudei definitivamente'"
     ],
     "language": "python",
     "prompt_number": 139
    },
    {
     "cell_type": "code",
     "metadata": {},
     "outputs": [
      {
       "output_type": "pyout",
       "prompt_number": 140,
       "text": [
        "'mudei definitivamente'"
       ],
       "metadata": {}
      }
     ],
     "input": [
      "b = NovaClasse()\n",
      "b.prop1"
     ],
     "language": "python",
     "prompt_number": 140
    },
    {
     "cell_type": "code",
     "metadata": {},
     "outputs": [
      {
       "output_type": "pyout",
       "prompt_number": 141,
       "text": [
        "'mudei definitivamente'"
       ],
       "metadata": {}
      }
     ],
     "input": [
      "NovaClasse.prop1"
     ],
     "language": "python",
     "prompt_number": 141
    },
    {
     "cell_type": "code",
     "metadata": {},
     "outputs": [
      {
       "output_type": "pyout",
       "prompt_number": 142,
       "text": [
        "'Mudei'"
       ],
       "metadata": {}
      }
     ],
     "input": [
      "x.prop1"
     ],
     "language": "python",
     "prompt_number": 142
    },
    {
     "cell_type": "code",
     "metadata": {},
     "outputs": [
      {
       "output_type": "pyout",
       "prompt_number": 143,
       "text": [
        "'mudei definitivamente'"
       ],
       "metadata": {}
      }
     ],
     "input": [
      "a.prop1"
     ],
     "language": "python",
     "prompt_number": 143
    },
    {
     "cell_type": "code",
     "metadata": {},
     "outputs": [
      {
       "output_type": "pyout",
       "prompt_number": 144,
       "text": [
        "['__class__',\n",
        " '__delattr__',\n",
        " '__dict__',\n",
        " '__dir__',\n",
        " '__doc__',\n",
        " '__eq__',\n",
        " '__format__',\n",
        " '__ge__',\n",
        " '__getattribute__',\n",
        " '__gt__',\n",
        " '__hash__',\n",
        " '__init__',\n",
        " '__le__',\n",
        " '__lt__',\n",
        " '__module__',\n",
        " '__ne__',\n",
        " '__new__',\n",
        " '__reduce__',\n",
        " '__reduce_ex__',\n",
        " '__repr__',\n",
        " '__setattr__',\n",
        " '__sizeof__',\n",
        " '__str__',\n",
        " '__subclasshook__',\n",
        " '__weakref__',\n",
        " 'prop1']"
       ],
       "metadata": {}
      }
     ],
     "input": [
      "dir(NovaClasse)"
     ],
     "language": "python",
     "prompt_number": 144
    },
    {
     "cell_type": "code",
     "metadata": {},
     "outputs": [],
     "input": [
      "class Dog:\n",
      "\n",
      "    def __init__(self, name, raca):\n",
      "        self.name = name\n",
      "        self.raca = raca\n",
      "        self.tricks = []\n",
      "\n",
      "    def add_trick(self, trick):\n",
      "        self.tricks.append(trick)"
     ],
     "language": "python",
     "prompt_number": 154
    },
    {
     "cell_type": "code",
     "metadata": {},
     "outputs": [],
     "input": [
      "d = Dog('Fido','Pastor Alemao')\n",
      "e = Dog('Buddy','Cocker')"
     ],
     "language": "python",
     "prompt_number": 155
    },
    {
     "cell_type": "code",
     "metadata": {},
     "outputs": [],
     "input": [
      "d.add_trick('Rolar')\n",
      "e.add_trick('Fingir-se de morto')"
     ],
     "language": "python",
     "prompt_number": 156
    },
    {
     "cell_type": "code",
     "metadata": {},
     "outputs": [
      {
       "output_type": "pyout",
       "prompt_number": 157,
       "text": [
        "['Rolar']"
       ],
       "metadata": {}
      }
     ],
     "input": [
      "d.tricks"
     ],
     "language": "python",
     "prompt_number": 157
    },
    {
     "cell_type": "code",
     "metadata": {},
     "outputs": [],
     "input": [
      "d.add_trick('Pedir Comida')"
     ],
     "language": "python",
     "prompt_number": 158
    },
    {
     "cell_type": "code",
     "metadata": {},
     "outputs": [
      {
       "output_type": "pyout",
       "prompt_number": 159,
       "text": [
        "'Fido'"
       ],
       "metadata": {}
      }
     ],
     "input": [
      "d.name"
     ],
     "language": "python",
     "prompt_number": 159
    },
    {
     "cell_type": "code",
     "metadata": {},
     "outputs": [
      {
       "output_type": "pyout",
       "prompt_number": 160,
       "text": [
        "'Pastor Alemao'"
       ],
       "metadata": {}
      }
     ],
     "input": [
      "d.raca"
     ],
     "language": "python",
     "prompt_number": 160
    },
    {
     "cell_type": "code",
     "metadata": {},
     "outputs": [
      {
       "output_type": "pyout",
       "prompt_number": 161,
       "text": [
        "['Rolar', 'Pedir Comida']"
       ],
       "metadata": {}
      }
     ],
     "input": [
      "d.tricks"
     ],
     "language": "python",
     "prompt_number": 161
    },
    {
     "cell_type": "code",
     "metadata": {},
     "outputs": [
      {
       "output_type": "pyout",
       "prompt_number": 162,
       "text": [
        "['Fingir-se de morto']"
       ],
       "metadata": {}
      }
     ],
     "input": [
      "e.tricks"
     ],
     "language": "python",
     "prompt_number": 162
    },
    {
     "cell_type": "code",
     "metadata": {},
     "outputs": [],
     "input": [
      "f = Dog('Rex','Doberman')"
     ],
     "language": "python",
     "prompt_number": 163
    },
    {
     "cell_type": "code",
     "metadata": {},
     "outputs": [
      {
       "output_type": "pyout",
       "prompt_number": 164,
       "text": [
        "'Rex'"
       ],
       "metadata": {}
      }
     ],
     "input": [
      "f.name"
     ],
     "language": "python",
     "prompt_number": 164
    },
    {
     "cell_type": "code",
     "metadata": {},
     "outputs": [
      {
       "output_type": "pyout",
       "prompt_number": 165,
       "text": [
        "'Doberman'"
       ],
       "metadata": {}
      }
     ],
     "input": [
      "f.raca"
     ],
     "language": "python",
     "prompt_number": 165
    },
    {
     "cell_type": "code",
     "metadata": {},
     "outputs": [
      {
       "output_type": "pyout",
       "prompt_number": 167,
       "text": [
        "['Latir para ladroes']"
       ],
       "metadata": {}
      }
     ],
     "input": [
      "f.add_trick('Latir para ladroes')\n",
      "f.tricks"
     ],
     "language": "python",
     "prompt_number": 167
    },
    {
     "cell_type": "code",
     "metadata": {},
     "outputs": [],
     "input": [
      "class SuperDog(Dog):\n",
      "\n",
      "    def __init__(self, name, raca):\n",
      "        Dog.__init__(self,name, raca)\n",
      "        self.comida = False\n",
      "        self.adestrado = False\n",
      "        \n",
      "    def esta_com_fome(self):\n",
      "        if self.comida:\n",
      "            print('Não')\n",
      "        else:\n",
      "            print('Sim')\n",
      "    \n",
      "    def adestra(self):\n",
      "        self.adestrado = True\n",
      "    \n",
      "    def alimenta(self):\n",
      "        self.comida = True"
     ],
     "language": "python",
     "prompt_number": 178
    },
    {
     "cell_type": "code",
     "metadata": {},
     "outputs": [],
     "input": [
      "f = SuperDog('Raghu','Labrador')"
     ],
     "language": "python",
     "prompt_number": 179
    },
    {
     "cell_type": "code",
     "metadata": {},
     "outputs": [],
     "input": [
      "f.alimenta()"
     ],
     "language": "python",
     "prompt_number": 180
    },
    {
     "cell_type": "code",
     "metadata": {},
     "outputs": [
      {
       "output_type": "stream",
       "stream": "stdout",
       "text": [
        "Não\n"
       ]
      }
     ],
     "input": [
      "f.esta_com_fome()"
     ],
     "language": "python",
     "prompt_number": 181
    },
    {
     "cell_type": "code",
     "metadata": {},
     "outputs": [],
     "input": [
      "f.comida = True"
     ],
     "language": "python",
     "prompt_number": 182
    },
    {
     "cell_type": "code",
     "metadata": {},
     "outputs": [
      {
       "output_type": "stream",
       "stream": "stdout",
       "text": [
        "Não\n"
       ]
      }
     ],
     "input": [
      "f.esta_com_fome()"
     ],
     "language": "python",
     "prompt_number": 183
    },
    {
     "cell_type": "code",
     "metadata": {},
     "outputs": [
      {
       "output_type": "pyout",
       "prompt_number": 184,
       "text": [
        "[]"
       ],
       "metadata": {}
      }
     ],
     "input": [
      "f.tricks"
     ],
     "language": "python",
     "prompt_number": 184
    },
    {
     "cell_type": "code",
     "metadata": {},
     "outputs": [
      {
       "output_type": "pyout",
       "prompt_number": 185,
       "text": [
        "False"
       ],
       "metadata": {}
      }
     ],
     "input": [
      "f.adestrado"
     ],
     "language": "python",
     "prompt_number": 185
    },
    {
     "cell_type": "code",
     "metadata": {},
     "outputs": [],
     "input": [
      "f.adestra()"
     ],
     "language": "python",
     "prompt_number": 186
    },
    {
     "cell_type": "code",
     "metadata": {},
     "outputs": [
      {
       "output_type": "pyout",
       "prompt_number": 187,
       "text": [
        "True"
       ],
       "metadata": {}
      }
     ],
     "input": [
      "f.adestrado"
     ],
     "language": "python",
     "prompt_number": 187
    },
    {
     "cell_type": "markdown",
     "metadata": {},
     "source": [
      "Exercício:  \n",
      "\n",
      "Criar uma classe automovel, com propriedades:  \n",
      "Modelo --> O modelo do carro  \n",
      "Autonomia  --> deve retornar quantos km ele pode andar  \n",
      "Nível do tanque --> deve retornar o número de litros do tanque  \n",
      "Consumo --> um valor de km por litro  \n",
      "Abastece --> acrescenta um numero de litros de combustível ao tanque, até o máximo de capacidade  \n",
      "Capacidade do tanque --> Quanto o tanque suporta (em litros)  \n",
      "Anda --> anda tantos km  \n",
      "Odometro --> numero total de km andados  \n",
      "Odometro parcial --> km andados desde o ultimo abastecimento  "
     ]
    },
    {
     "cell_type": "code",
     "metadata": {},
     "outputs": [],
     "input": [
      "class Auto:\n",
      "    def __init__(self,modelo,consumo,capacidade_tanque):\n",
      "        self.modelo = modelo\n",
      "        self.consumo = consumo\n",
      "        self.capacidade_tanque = capacidade_tanque\n",
      "        self.odometro = 0\n",
      "        self.odometro_parcial = 0\n",
      "        self.combustivel = 0\n",
      "        \n",
      "    def anda(self,km):\n",
      "        if km/self.consumo < self.combustivel:\n",
      "            self.combustivel -= (km/self.consumo)\n",
      "            self.odometro += km\n",
      "            self.odometro_parcial += km\n",
      "        else:\n",
      "            print('Você só pode andar {} Km'.format(self.autonomia()))\n",
      "\n",
      "    def abastece(self, litros):\n",
      "        self.falta = self.capacidade_tanque - self.combustivel\n",
      "        if litros > self.falta:\n",
      "            print('Você só pode abastecer {} litros'.format(self.falta))\n",
      "        else:\n",
      "            self.odometro_parcial = 0\n",
      "            self.combustivel += litros\n",
      "            print('Abastecemos {} litros'.format(litros))\n",
      "            print('Tanque possui {} litros'.format(self.combustivel))\n",
      "\n",
      "    def autonomia(self):\n",
      "        self.atnm = self.combustivel*self.consumo\n",
      "        return self.atnm\n",
      "    \n",
      "    def nivel_tanque(self):\n",
      "        print('O tanque contém {} litros'.format(self.combustivel))\n",
      "    \n",
      "    def mostra_odometro(self):\n",
      "        print('Odômetro parcial: {}'.format(self.odometro_parcial))\n",
      "        print('Odômetro total: {}'.format(self.odometro))"
     ],
     "language": "python",
     "prompt_number": 249
    },
    {
     "cell_type": "code",
     "metadata": {},
     "outputs": [],
     "input": [
      "meucarro = Auto('Nissam',9,40)"
     ],
     "language": "python",
     "prompt_number": 260
    },
    {
     "cell_type": "code",
     "metadata": {},
     "outputs": [],
     "input": [
      "meucarro.anda(240)"
     ],
     "language": "python",
     "prompt_number": 271
    },
    {
     "cell_type": "code",
     "metadata": {},
     "outputs": [
      {
       "output_type": "stream",
       "stream": "stdout",
       "text": [
        "Abastecemos 20 litros\n",
        "Tanque possui 27.77777777777778 litros\n"
       ]
      }
     ],
     "input": [
      "meucarro.abastece(20)"
     ],
     "language": "python",
     "prompt_number": 268
    },
    {
     "cell_type": "code",
     "metadata": {},
     "outputs": [
      {
       "output_type": "stream",
       "stream": "stdout",
       "text": [
        "Odômetro parcial: 240\n",
        "Odômetro total: 440\n"
       ]
      }
     ],
     "input": [
      "meucarro.mostra_odometro()"
     ],
     "language": "python",
     "prompt_number": 272
    },
    {
     "cell_type": "code",
     "metadata": {},
     "outputs": [
      {
       "output_type": "pyout",
       "prompt_number": 279,
       "text": [
        "9.999999999999996"
       ],
       "metadata": {}
      }
     ],
     "input": [
      "meucarro.autonomia()"
     ],
     "language": "python",
     "prompt_number": 279
    },
    {
     "cell_type": "code",
     "metadata": {},
     "outputs": [],
     "input": [
      "meucarro."
     ],
     "language": "python"
    }
   ]
  }
 ],
 "cells": [],
 "metadata": {
  "name": "",
  "signature": "sha256:94a154227ccff7ec2febf1cbf89f88c97c6cc7d0f580c115cb97cce0d9464722"
 },
 "nbformat": 3,
 "nbformat_minor": 0
}