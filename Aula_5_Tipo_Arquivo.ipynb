{
 "cells": [
  {
   "cell_type": "markdown",
   "metadata": {},
   "source": [
    "FGV - Escola de Matemática Aplicada\n",
    "==\n",
    "Curso de Verão - Introdução à Programação com a Linguagem Python\n",
    "--"
   ]
  },
  {
   "cell_type": "markdown",
   "metadata": {},
   "source": [
    "#### Tipo Arquivo"
   ]
  },
  {
   "cell_type": "code",
   "execution_count": 98,
   "metadata": {
    "collapsed": false
   },
   "outputs": [],
   "source": [
    "texto = 'Minha string'\n",
    "f = open('meu_arquivo.txt', mode='w', encoding='utf-8')"
   ]
  },
  {
   "cell_type": "code",
   "execution_count": 99,
   "metadata": {
    "collapsed": false
   },
   "outputs": [
    {
     "data": {
      "text/plain": [
       "27"
      ]
     },
     "execution_count": 99,
     "metadata": {},
     "output_type": "execute_result"
    }
   ],
   "source": [
    "f.write('Olá\\n')\n",
    "f.write('olá, como vai\\n')\n",
    "f.write('\\n')\n",
    "f.write('Então tchau!\\n')\n",
    "f.write('\\n')\n",
    "f.write('um texto\\tdepois de um <tab>')"
   ]
  },
  {
   "cell_type": "code",
   "execution_count": 100,
   "metadata": {
    "collapsed": false
   },
   "outputs": [
    {
     "data": {
      "text/plain": [
       "False"
      ]
     },
     "execution_count": 100,
     "metadata": {},
     "output_type": "execute_result"
    }
   ],
   "source": [
    "f.closed"
   ]
  },
  {
   "cell_type": "code",
   "execution_count": 101,
   "metadata": {
    "collapsed": false
   },
   "outputs": [],
   "source": [
    "f.close()"
   ]
  },
  {
   "cell_type": "code",
   "execution_count": 102,
   "metadata": {
    "collapsed": false
   },
   "outputs": [
    {
     "data": {
      "text/plain": [
       "True"
      ]
     },
     "execution_count": 102,
     "metadata": {},
     "output_type": "execute_result"
    }
   ],
   "source": [
    "f.closed"
   ]
  },
  {
   "cell_type": "code",
   "execution_count": 103,
   "metadata": {
    "collapsed": false
   },
   "outputs": [],
   "source": [
    "g = open('meu_arquivo.txt', mode='r', encoding='utf-8')"
   ]
  },
  {
   "cell_type": "code",
   "execution_count": 104,
   "metadata": {
    "collapsed": false
   },
   "outputs": [
    {
     "name": "stdout",
     "output_type": "stream",
     "text": [
      "Olá\n",
      "\n"
     ]
    }
   ],
   "source": [
    "primeira = g.readline()\n",
    "print(primeira)"
   ]
  },
  {
   "cell_type": "code",
   "execution_count": 105,
   "metadata": {
    "collapsed": false
   },
   "outputs": [
    {
     "name": "stdout",
     "output_type": "stream",
     "text": [
      "olá, como vai\n",
      "\n"
     ]
    }
   ],
   "source": [
    "segunda = g.readline()\n",
    "print(segunda)"
   ]
  },
  {
   "cell_type": "code",
   "execution_count": 106,
   "metadata": {
    "collapsed": false
   },
   "outputs": [
    {
     "name": "stdout",
     "output_type": "stream",
     "text": [
      "\n",
      "\n"
     ]
    }
   ],
   "source": [
    "terceira = g.readline()\n",
    "print(terceira)"
   ]
  },
  {
   "cell_type": "code",
   "execution_count": 107,
   "metadata": {
    "collapsed": false
   },
   "outputs": [
    {
     "data": {
      "text/plain": [
       "0"
      ]
     },
     "execution_count": 107,
     "metadata": {},
     "output_type": "execute_result"
    }
   ],
   "source": [
    "g.seek(0)"
   ]
  },
  {
   "cell_type": "code",
   "execution_count": 108,
   "metadata": {
    "collapsed": false
   },
   "outputs": [
    {
     "data": {
      "text/plain": [
       "'Olá\\n'"
      ]
     },
     "execution_count": 108,
     "metadata": {},
     "output_type": "execute_result"
    }
   ],
   "source": [
    "primeira_linha = g.readline()\n",
    "primeira_linha"
   ]
  },
  {
   "cell_type": "code",
   "execution_count": 109,
   "metadata": {
    "collapsed": false
   },
   "outputs": [],
   "source": [
    "segunda_linha = g.readline()"
   ]
  },
  {
   "cell_type": "code",
   "execution_count": 110,
   "metadata": {
    "collapsed": false
   },
   "outputs": [
    {
     "data": {
      "text/plain": [
       "'olá, como vai\\n'"
      ]
     },
     "execution_count": 110,
     "metadata": {},
     "output_type": "execute_result"
    }
   ],
   "source": [
    "segunda_linha"
   ]
  },
  {
   "cell_type": "code",
   "execution_count": 111,
   "metadata": {
    "collapsed": false
   },
   "outputs": [],
   "source": [
    "g.seek(0)\n",
    "todas_as_linhas = g.read()"
   ]
  },
  {
   "cell_type": "code",
   "execution_count": 112,
   "metadata": {
    "collapsed": false
   },
   "outputs": [
    {
     "name": "stdout",
     "output_type": "stream",
     "text": [
      "Olá\n",
      "olá, como vai\n",
      "\n",
      "Então tchau!\n",
      "\n",
      "um texto\tdepois de um <tab>\n"
     ]
    }
   ],
   "source": [
    "print(todas_as_linhas)"
   ]
  },
  {
   "cell_type": "code",
   "execution_count": 113,
   "metadata": {
    "collapsed": false
   },
   "outputs": [],
   "source": [
    "g.close()"
   ]
  },
  {
   "cell_type": "code",
   "execution_count": 114,
   "metadata": {
    "collapsed": false
   },
   "outputs": [],
   "source": [
    "with open('novo_arquivo.txt', mode='w', encoding='utf-8') as f:\n",
    "    f.write('Peso\\t\\t72\\n')\n",
    "    f.write('Altura\\t\\t183\\n')\n",
    "    f.write('Idade\\t\\t44\\n')\n",
    "    f.write('Genero\\t\\tMasculino\\n')\n",
    "    f.write('\\n')"
   ]
  },
  {
   "cell_type": "code",
   "execution_count": 115,
   "metadata": {
    "collapsed": false
   },
   "outputs": [
    {
     "data": {
      "text/plain": [
       "['Peso\\t\\t72\\n',\n",
       " 'Altura\\t\\t183\\n',\n",
       " 'Idade\\t\\t44\\n',\n",
       " 'Genero\\t\\tMasculino\\n',\n",
       " '\\n']"
      ]
     },
     "execution_count": 115,
     "metadata": {},
     "output_type": "execute_result"
    }
   ],
   "source": [
    "with open('novo_arquivo.txt', mode='r', encoding='utf-8') as f:\n",
    "    linha = f.readlines()\n",
    "    #linha = f.read()\n",
    "linha"
   ]
  },
  {
   "cell_type": "code",
   "execution_count": 185,
   "metadata": {
    "collapsed": false
   },
   "outputs": [],
   "source": [
    "with open('dados.csv', mode='r', encoding='utf-8') as f:\n",
    "    f.readline()\n",
    "    f.readline()\n",
    "    f.readline()\n",
    "    f.readline()\n",
    "    texto = []\n",
    "    for i in range(10):\n",
    "        texto.append(f.readline())"
   ]
  },
  {
   "cell_type": "code",
   "execution_count": 187,
   "metadata": {
    "collapsed": false
   },
   "outputs": [
    {
     "data": {
      "text/plain": [
       "['\"Country Name\",\"Country Code\",\"Indicator Name\",\"Indicator Code\",\"1960\",\"1961\",\"1962\",\"1963\",\"1964\",\"1965\",\"1966\",\"1967\",\"1968\",\"1969\",\"1970\",\"1971\",\"1972\",\"1973\",\"1974\",\"1975\",\"1976\",\"1977\",\"1978\",\"1979\",\"1980\",\"1981\",\"1982\",\"1983\",\"1984\",\"1985\",\"1986\",\"1987\",\"1988\",\"1989\",\"1990\",\"1991\",\"1992\",\"1993\",\"1994\",\"1995\",\"1996\",\"1997\",\"1998\",\"1999\",\"2000\",\"2001\",\"2002\",\"2003\",\"2004\",\"2005\",\"2006\",\"2007\",\"2008\",\"2009\",\"2010\",\"2011\",\"2012\",\"2013\",\"2014\",\"2015\",\\n',\n",
       " '\"Brazil\",\"BRA\",\"Agricultural machinery, tractors\",\"AG.AGR.TRAC.NO\",\"\",\"72000\",\"82000\",\"93000\",\"103000\",\"114000\",\"124000\",\"134500\",\"145000\",\"155400\",\"165870\",\"183500\",\"201000\",\"218500\",\"236000\",\"323113\",\"350000\",\"370000\",\"428000\",\"485000\",\"545205\",\"569000\",\"593000\",\"617000\",\"641000\",\"666309\",\"678803\",\"691297\",\"703790\",\"716285\",\"728779\",\"741272\",\"753766\",\"766260\",\"778754\",\"791248\",\"803742\",\"802173\",\"800604\",\"799035\",\"797466\",\"795898\",\"794329\",\"792760\",\"791191\",\"789622\",\"788053\",\"\",\"\",\"\",\"\",\"\",\"\",\"\",\"\",\"\",\\n']"
      ]
     },
     "execution_count": 187,
     "metadata": {},
     "output_type": "execute_result"
    }
   ],
   "source": [
    "texto[0:2]"
   ]
  },
  {
   "cell_type": "code",
   "execution_count": 188,
   "metadata": {
    "collapsed": false,
    "scrolled": true
   },
   "outputs": [],
   "source": [
    "for indice in range(len(texto)):\n",
    "    texto[indice] = texto[indice].split(',')"
   ]
  },
  {
   "cell_type": "code",
   "execution_count": 189,
   "metadata": {
    "collapsed": false
   },
   "outputs": [
    {
     "data": {
      "text/plain": [
       "['\"Country Name\"',\n",
       " '\"Country Code\"',\n",
       " '\"Indicator Name\"',\n",
       " '\"Indicator Code\"',\n",
       " '\"1960\"',\n",
       " '\"1961\"',\n",
       " '\"1962\"',\n",
       " '\"1963\"',\n",
       " '\"1964\"',\n",
       " '\"1965\"',\n",
       " '\"1966\"',\n",
       " '\"1967\"',\n",
       " '\"1968\"',\n",
       " '\"1969\"',\n",
       " '\"1970\"',\n",
       " '\"1971\"',\n",
       " '\"1972\"',\n",
       " '\"1973\"',\n",
       " '\"1974\"',\n",
       " '\"1975\"',\n",
       " '\"1976\"',\n",
       " '\"1977\"',\n",
       " '\"1978\"',\n",
       " '\"1979\"',\n",
       " '\"1980\"',\n",
       " '\"1981\"',\n",
       " '\"1982\"',\n",
       " '\"1983\"',\n",
       " '\"1984\"',\n",
       " '\"1985\"',\n",
       " '\"1986\"',\n",
       " '\"1987\"',\n",
       " '\"1988\"',\n",
       " '\"1989\"',\n",
       " '\"1990\"',\n",
       " '\"1991\"',\n",
       " '\"1992\"',\n",
       " '\"1993\"',\n",
       " '\"1994\"',\n",
       " '\"1995\"',\n",
       " '\"1996\"',\n",
       " '\"1997\"',\n",
       " '\"1998\"',\n",
       " '\"1999\"',\n",
       " '\"2000\"',\n",
       " '\"2001\"',\n",
       " '\"2002\"',\n",
       " '\"2003\"',\n",
       " '\"2004\"',\n",
       " '\"2005\"',\n",
       " '\"2006\"',\n",
       " '\"2007\"',\n",
       " '\"2008\"',\n",
       " '\"2009\"',\n",
       " '\"2010\"',\n",
       " '\"2011\"',\n",
       " '\"2012\"',\n",
       " '\"2013\"',\n",
       " '\"2014\"',\n",
       " '\"2015\"',\n",
       " '\\n']"
      ]
     },
     "execution_count": 189,
     "metadata": {},
     "output_type": "execute_result"
    }
   ],
   "source": [
    "texto[0]"
   ]
  },
  {
   "cell_type": "code",
   "execution_count": 190,
   "metadata": {
    "collapsed": false
   },
   "outputs": [],
   "source": [
    "idx = texto[0].index('\"2005\"')"
   ]
  },
  {
   "cell_type": "code",
   "execution_count": 191,
   "metadata": {
    "collapsed": false
   },
   "outputs": [
    {
     "name": "stdout",
     "output_type": "stream",
     "text": [
      "O valor do indicador Indicator Name é 2005\n",
      "O valor do indicador Agricultural machinery é 791191\n",
      "O valor do indicador Fertilizer consumption (% of fertilizer production) é 269.937681288949\n",
      "O valor do indicador Fertilizer consumption (kilograms per hectare of arable land) é 120.100351374409\n",
      "O valor do indicador Agricultural land (sq. km) é 2724326\n",
      "O valor do indicador Agricultural land (% of land area) é 32.5948835506464\n",
      "O valor do indicador Arable land (hectares) é 69157000\n",
      "O valor do indicador Arable land (hectares per person) é 0.366921046583167\n",
      "O valor do indicador Arable land (% of land area) é 8.27420933365558\n",
      "O valor do indicador Land under cereal production (hectares) é 19312005\n"
     ]
    }
   ],
   "source": [
    "for lista in texto:\n",
    "    print('O valor do indicador {} é {}'.format(lista[2].strip('\"'), lista[idx].strip('\"')))"
   ]
  },
  {
   "cell_type": "code",
   "execution_count": 204,
   "metadata": {
    "collapsed": false
   },
   "outputs": [],
   "source": [
    "with open('texto_python.txt', mode='r', encoding='utf-8') as f:\n",
    "    novo = f.read()"
   ]
  },
  {
   "cell_type": "code",
   "execution_count": 205,
   "metadata": {
    "collapsed": false
   },
   "outputs": [],
   "source": [
    "def freqdist(texto):\n",
    "    dic = {}\n",
    "    lista = texto.split()\n",
    "    for token in lista:\n",
    "        if token.lower() not in dic:\n",
    "            dic[token.lower()] = 1\n",
    "        else:\n",
    "            dic[token.lower()] += 1\n",
    "    return dic"
   ]
  },
  {
   "cell_type": "code",
   "execution_count": 206,
   "metadata": {
    "collapsed": false
   },
   "outputs": [],
   "source": [
    "dic = freqdist(novo)"
   ]
  },
  {
   "cell_type": "code",
   "execution_count": 207,
   "metadata": {
    "collapsed": false
   },
   "outputs": [
    {
     "data": {
      "text/plain": [
       "121"
      ]
     },
     "execution_count": 207,
     "metadata": {},
     "output_type": "execute_result"
    }
   ],
   "source": [
    "dic['python']"
   ]
  },
  {
   "cell_type": "markdown",
   "metadata": {},
   "source": [
    "#### Módulo Collections"
   ]
  },
  {
   "cell_type": "code",
   "execution_count": 209,
   "metadata": {
    "collapsed": false
   },
   "outputs": [],
   "source": [
    "from collections import Counter"
   ]
  },
  {
   "cell_type": "code",
   "execution_count": 213,
   "metadata": {
    "collapsed": false
   },
   "outputs": [
    {
     "data": {
      "text/plain": [
       "[('de', 385),\n",
       " ('a', 166),\n",
       " ('*', 163),\n",
       " ('o', 159),\n",
       " ('em', 122),\n",
       " ('python', 121),\n",
       " ('para', 121),\n",
       " ('e', 121),\n",
       " ('da', 86),\n",
       " ('•', 83),\n",
       " ('que', 68),\n",
       " ('é', 62),\n",
       " ('do', 57),\n",
       " ('uma', 48),\n",
       " ('(em', 45),\n",
       " ('um', 44),\n",
       " ('inglês', 41),\n",
       " ('com', 39),\n",
       " ('como', 39),\n",
       " ('↑', 38),\n",
       " ('visitado', 36),\n",
       " ('versão', 34),\n",
       " ('ir', 33),\n",
       " ('linguagem', 33),\n",
       " ('cima', 32),\n",
       " ('são', 32),\n",
       " ('por', 32),\n",
       " ('os', 31),\n",
       " ('editar', 30),\n",
       " ('na', 30),\n",
       " ('</wiki/l%c3%adngua_inglesa>)', 29),\n",
       " ('software', 28),\n",
       " ('código-fonte', 28),\n",
       " ('no', 27),\n",
       " ('código', 26),\n",
       " ('não', 26),\n",
       " ('2008.', 25),\n",
       " ('foundation', 25),\n",
       " ('desenvolvimento', 24),\n",
       " ('também', 22)]"
      ]
     },
     "execution_count": 213,
     "metadata": {},
     "output_type": "execute_result"
    }
   ],
   "source": [
    "novo2 = novo.lower()\n",
    "lista2 = novo2.split()\n",
    "freqdist2 = Counter(lista2)\n",
    "freqdist2.most_common(40)"
   ]
  },
  {
   "cell_type": "markdown",
   "metadata": {},
   "source": [
    "#### Módulo Time"
   ]
  },
  {
   "cell_type": "code",
   "execution_count": 219,
   "metadata": {
    "collapsed": false
   },
   "outputs": [],
   "source": [
    "import time\n",
    "import random"
   ]
  },
  {
   "cell_type": "code",
   "execution_count": 216,
   "metadata": {
    "collapsed": false
   },
   "outputs": [
    {
     "data": {
      "text/plain": [
       "1452277877.798539"
      ]
     },
     "execution_count": 216,
     "metadata": {},
     "output_type": "execute_result"
    }
   ],
   "source": [
    "time.time()"
   ]
  },
  {
   "cell_type": "code",
   "execution_count": 217,
   "metadata": {
    "collapsed": false
   },
   "outputs": [
    {
     "data": {
      "text/plain": [
       "1452277878.430602"
      ]
     },
     "execution_count": 217,
     "metadata": {},
     "output_type": "execute_result"
    }
   ],
   "source": [
    "time.time()"
   ]
  },
  {
   "cell_type": "code",
   "execution_count": 220,
   "metadata": {
    "collapsed": false
   },
   "outputs": [
    {
     "name": "stdout",
     "output_type": "stream",
     "text": [
      "M\n",
      "e\n",
      "u\n",
      " \n",
      "n\n",
      "o\n",
      "m\n",
      "e\n",
      " \n",
      "n\n"
     ]
    }
   ],
   "source": [
    "for letra in 'Meu nome não é Johnny'[0:10]:\n",
    "    print(letra)\n",
    "    time.sleep(random.randrange(10))"
   ]
  },
  {
   "cell_type": "code",
   "execution_count": 221,
   "metadata": {
    "collapsed": false
   },
   "outputs": [
    {
     "name": "stdout",
     "output_type": "stream",
     "text": [
      "104857600000000000000000000\n",
      "5842587018385982521381124421\n",
      "341427877364219557396646723584\n",
      "20880467999847912034355032910567\n",
      "1333735776850284124449081472843776\n",
      "88817841970012523233890533447265625\n",
      "6156119580207157310796674288400203776\n",
      "443426488243037769948249630619149892803\n",
      "33145523113253374862572728253364605812736\n",
      "2567686153161211134561828214731016126483469\n",
      "1452278113.4289992\n"
     ]
    }
   ],
   "source": [
    "x = time.time()\n",
    "for x in range(20,30):\n",
    "    print(x**x)\n",
    "y = time.time()\n",
    "tempo = y - x\n",
    "print(tempo)"
   ]
  },
  {
   "cell_type": "code",
   "execution_count": 228,
   "metadata": {
    "collapsed": false
   },
   "outputs": [
    {
     "data": {
      "text/plain": [
       "16"
      ]
     },
     "execution_count": 228,
     "metadata": {},
     "output_type": "execute_result"
    }
   ],
   "source": [
    "x = time.localtime()\n",
    "x.tm_hour"
   ]
  },
  {
   "cell_type": "markdown",
   "metadata": {},
   "source": [
    "#### Módulo Pickle"
   ]
  },
  {
   "cell_type": "code",
   "execution_count": 1,
   "metadata": {
    "collapsed": false
   },
   "outputs": [],
   "source": [
    "import pickle"
   ]
  },
  {
   "cell_type": "code",
   "execution_count": 37,
   "metadata": {
    "collapsed": false
   },
   "outputs": [],
   "source": [
    "dic = {'um':1, 'dois':2}\n",
    "\n",
    "with open('data.pickle', 'wb') as f:\n",
    "    pickle.dump(dic,f, protocol=2)"
   ]
  },
  {
   "cell_type": "code",
   "execution_count": 38,
   "metadata": {
    "collapsed": false
   },
   "outputs": [
    {
     "ename": "NameError",
     "evalue": "name 'dic' is not defined",
     "output_type": "error",
     "traceback": [
      "\u001b[1;31m---------------------------------------------------------------------------\u001b[0m",
      "\u001b[1;31mNameError\u001b[0m                                 Traceback (most recent call last)",
      "\u001b[1;32m<ipython-input-38-a1b030ea479d>\u001b[0m in \u001b[0;36m<module>\u001b[1;34m()\u001b[0m\n\u001b[0;32m      1\u001b[0m \u001b[1;32mdel\u001b[0m\u001b[1;33m(\u001b[0m\u001b[0mdic\u001b[0m\u001b[1;33m)\u001b[0m\u001b[1;33m\u001b[0m\u001b[0m\n\u001b[1;32m----> 2\u001b[1;33m \u001b[0mdic\u001b[0m\u001b[1;33m\u001b[0m\u001b[0m\n\u001b[0m",
      "\u001b[1;31mNameError\u001b[0m: name 'dic' is not defined"
     ]
    }
   ],
   "source": [
    "del(dic)\n",
    "dic"
   ]
  },
  {
   "cell_type": "code",
   "execution_count": 39,
   "metadata": {
    "collapsed": false
   },
   "outputs": [
    {
     "data": {
      "text/plain": [
       "{'dois': 2, 'um': 1}"
      ]
     },
     "execution_count": 39,
     "metadata": {},
     "output_type": "execute_result"
    }
   ],
   "source": [
    "with open('data.pickle', 'rb') as f:\n",
    "    dic = pickle.load(f)\n",
    "dic"
   ]
  },
  {
   "cell_type": "markdown",
   "metadata": {},
   "source": [
    "#### List Comprehension"
   ]
  },
  {
   "cell_type": "code",
   "execution_count": 48,
   "metadata": {
    "collapsed": false
   },
   "outputs": [
    {
     "name": "stdout",
     "output_type": "stream",
     "text": [
      "6.254958391189575\n"
     ]
    }
   ],
   "source": [
    "import time\n",
    "t0 = time.time()\n",
    "[x**x for x in range(10000)]\n",
    "print(time.time() - t0)"
   ]
  },
  {
   "cell_type": "code",
   "execution_count": 49,
   "metadata": {
    "collapsed": false
   },
   "outputs": [
    {
     "name": "stdout",
     "output_type": "stream",
     "text": [
      "6.208163261413574\n"
     ]
    }
   ],
   "source": [
    "t0 = time.time()\n",
    "lista = []\n",
    "for x in range(10000):\n",
    "    lista.append(x**x)\n",
    "print(time.time() - t0)"
   ]
  },
  {
   "cell_type": "code",
   "execution_count": 50,
   "metadata": {
    "collapsed": false
   },
   "outputs": [
    {
     "data": {
      "text/plain": [
       "['In',\n",
       " 'Out',\n",
       " '_',\n",
       " '_15',\n",
       " '_16',\n",
       " '_18',\n",
       " '_22',\n",
       " '_24',\n",
       " '_26',\n",
       " '_28',\n",
       " '_3',\n",
       " '_30',\n",
       " '_39',\n",
       " '_40',\n",
       " '_9',\n",
       " '__',\n",
       " '___',\n",
       " '__builtin__',\n",
       " '__builtins__',\n",
       " '__doc__',\n",
       " '__loader__',\n",
       " '__name__',\n",
       " '__package__',\n",
       " '__spec__',\n",
       " '_dh',\n",
       " '_i',\n",
       " '_i1',\n",
       " '_i10',\n",
       " '_i11',\n",
       " '_i12',\n",
       " '_i13',\n",
       " '_i14',\n",
       " '_i15',\n",
       " '_i16',\n",
       " '_i17',\n",
       " '_i18',\n",
       " '_i19',\n",
       " '_i2',\n",
       " '_i20',\n",
       " '_i21',\n",
       " '_i22',\n",
       " '_i23',\n",
       " '_i24',\n",
       " '_i25',\n",
       " '_i26',\n",
       " '_i27',\n",
       " '_i28',\n",
       " '_i29',\n",
       " '_i3',\n",
       " '_i30',\n",
       " '_i31',\n",
       " '_i32',\n",
       " '_i33',\n",
       " '_i34',\n",
       " '_i35',\n",
       " '_i36',\n",
       " '_i37',\n",
       " '_i38',\n",
       " '_i39',\n",
       " '_i4',\n",
       " '_i40',\n",
       " '_i41',\n",
       " '_i42',\n",
       " '_i43',\n",
       " '_i44',\n",
       " '_i45',\n",
       " '_i46',\n",
       " '_i47',\n",
       " '_i48',\n",
       " '_i49',\n",
       " '_i5',\n",
       " '_i50',\n",
       " '_i6',\n",
       " '_i7',\n",
       " '_i8',\n",
       " '_i9',\n",
       " '_ih',\n",
       " '_ii',\n",
       " '_iii',\n",
       " '_oh',\n",
       " '_sh',\n",
       " 'dic',\n",
       " 'exit',\n",
       " 'f',\n",
       " 'get_ipython',\n",
       " 'lista',\n",
       " 'nova_lista',\n",
       " 'outra_func',\n",
       " 'pickle',\n",
       " 'quadrado',\n",
       " 'quit',\n",
       " 't0',\n",
       " 'time',\n",
       " 'x']"
      ]
     },
     "execution_count": 50,
     "metadata": {},
     "output_type": "execute_result"
    }
   ],
   "source": [
    "variaveis = dir()\n",
    "variaveis"
   ]
  },
  {
   "cell_type": "code",
   "execution_count": 52,
   "metadata": {
    "collapsed": false
   },
   "outputs": [
    {
     "data": {
      "text/plain": [
       "['In',\n",
       " 'Out',\n",
       " 'dic',\n",
       " 'exit',\n",
       " 'f',\n",
       " 'get_ipython',\n",
       " 'lista',\n",
       " 'nova_lista',\n",
       " 'outra_func',\n",
       " 'pickle',\n",
       " 'quadrado',\n",
       " 'quit',\n",
       " 't0',\n",
       " 'time',\n",
       " 'x']"
      ]
     },
     "execution_count": 52,
     "metadata": {},
     "output_type": "execute_result"
    }
   ],
   "source": [
    "minhas = [v for v in variaveis if not v.startswith('_')]\n",
    "minhas"
   ]
  },
  {
   "cell_type": "code",
   "execution_count": 53,
   "metadata": {
    "collapsed": false
   },
   "outputs": [
    {
     "data": {
      "text/plain": [
       "builtin_function_or_method"
      ]
     },
     "execution_count": 53,
     "metadata": {},
     "output_type": "execute_result"
    }
   ],
   "source": [
    "type(dir)"
   ]
  },
  {
   "cell_type": "code",
   "execution_count": 54,
   "metadata": {
    "collapsed": false
   },
   "outputs": [
    {
     "data": {
      "text/plain": [
       "94"
      ]
     },
     "execution_count": 54,
     "metadata": {},
     "output_type": "execute_result"
    }
   ],
   "source": [
    "len(variaveis)"
   ]
  },
  {
   "cell_type": "code",
   "execution_count": 179,
   "metadata": {
    "collapsed": false
   },
   "outputs": [],
   "source": [
    "del variaveis"
   ]
  },
  {
   "cell_type": "markdown",
   "metadata": {},
   "source": [
    "Para casa:  \n",
    "https://projecteuler.net/problem=8"
   ]
  }
 ],
 "metadata": {
  "kernelspec": {
   "display_name": "Python 3",
   "language": "python",
   "name": "python3"
  },
  "language_info": {
   "codemirror_mode": {
    "name": "ipython",
    "version": 3
   },
   "file_extension": ".py",
   "mimetype": "text/x-python",
   "name": "python",
   "nbconvert_exporter": "python",
   "pygments_lexer": "ipython3",
   "version": "3.4.3+"
  }
 },
 "nbformat": 4,
 "nbformat_minor": 0
}
