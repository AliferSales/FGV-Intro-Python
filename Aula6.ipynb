{
 "metadata": {
  "name": "",
  "signature": "sha256:0643d82d06eab88ef331c128edaae2c76f51aeed52861decf4d50522e20cdd59"
 },
 "nbformat": 3,
 "nbformat_minor": 0,
 "worksheets": [
  {
   "cells": [
    {
     "cell_type": "markdown",
     "metadata": {},
     "source": [
      "FGV - Escola de Matem\u00e1tica Aplicada\n",
      "==\n",
      "Curso de Ver\u00e3o - Introdu\u00e7\u00e3o \u00e0 Programa\u00e7\u00e3o com a Linguagem Python\n",
      "--"
     ]
    },
    {
     "cell_type": "markdown",
     "metadata": {},
     "source": [
      "Proposi\u00e7\u00e3o de problema para casa:  \n",
      "https://projecteuler.net/problem=8  \n",
      "Resposta da Thays:  "
     ]
    },
    {
     "cell_type": "code",
     "collapsed": false,
     "input": [
      "numero = 7316717653133062491922511967442657474235534919493496983520312774506326239578318016984801869478851843858615607891129494954595017379583319528532088055111254069874715852386305071569329096329522744304355766896648950445244523161731856403098711121722383113622298934233803081353362766142828064444866452387493035890729629049156044077239071381051585930796086670172427121883998797908792274921901699720888093776657273330010533678812202354218097512545405947522435258490771167055601360483958644670632441572215539753697817977846174064955149290862569321978468622482839722413756570560574902614079729686524145351004748216637048440319989000889524345065854122758866688116427171479924442928230863465674813919123162824586178664583591245665294765456828489128831426076900422421902267105562632111110937054421750694165896040807198403850962455444362981230987879927244284909188845801561660979191338754992005240636899125607176060588611646710940507754100225698315520005593572972571636269561882670428252483600823257530420752963450"
     ],
     "language": "python",
     "metadata": {},
     "outputs": [],
     "prompt_number": 139
    },
    {
     "cell_type": "code",
     "collapsed": false,
     "input": [
      "string = str(numero)"
     ],
     "language": "python",
     "metadata": {},
     "outputs": [],
     "prompt_number": 140
    },
    {
     "cell_type": "code",
     "collapsed": false,
     "input": [
      "#Criando o arquivo:\n",
      "with open ('numero_mil_digitos_a.txt', mode='w', encoding='utf-8') as arquivo:\n",
      "    arquivo.write(string)\n",
      "    \n",
      "#Lendo o arquivo:\n",
      "with open ('numero_mil_digitos_a.txt', mode='r', encoding='utf-8') as arquivo:\n",
      "    leitura = arquivo.readlines()\n",
      "    \n",
      "#Calculando o valor:\n",
      "x = leitura[0]\n",
      "produtos = [] #Aqui armazenaremos todos os produtos possiveis gerados\n",
      "for a in range(len(x)-12): #o menos 12 \u00e9 para que n\u00e3o acessemos \u00edndice fora da faixa\n",
      "    produto = int(x[a])\n",
      "    contador = 1\n",
      "    indice = a\n",
      "    while contador <= 12: #loop que faz com que o produto'caminhe' pelos 13 numeros consecutivos\n",
      "        indice+=1 #isso faz com que o indice 'ande' para o proximo numero\n",
      "        produto*=int(x[indice])\n",
      "        contador+=1\n",
      "    produtos.append(produto)\n",
      "#print(produtos)"
     ],
     "language": "python",
     "metadata": {},
     "outputs": [],
     "prompt_number": 142
    },
    {
     "cell_type": "heading",
     "level": 4,
     "metadata": {},
     "source": [
      "List Comprehension"
     ]
    },
    {
     "cell_type": "code",
     "collapsed": false,
     "input": [
      "sequencia = range(11)\n",
      "lc = [elemento for elemento in sequencia]\n",
      "lc"
     ],
     "language": "python",
     "metadata": {},
     "outputs": [
      {
       "metadata": {},
       "output_type": "pyout",
       "prompt_number": 4,
       "text": [
        "[0, 1, 2, 3, 4, 5, 6, 7, 8, 9, 10]"
       ]
      }
     ],
     "prompt_number": 4
    },
    {
     "cell_type": "code",
     "collapsed": false,
     "input": [
      "[x+y for x,y in [(9,4),(8,6),(2,9)]]"
     ],
     "language": "python",
     "metadata": {},
     "outputs": [
      {
       "metadata": {},
       "output_type": "pyout",
       "prompt_number": 3,
       "text": [
        "[13, 14, 11]"
       ]
      }
     ],
     "prompt_number": 3
    },
    {
     "cell_type": "code",
     "collapsed": false,
     "input": [
      "seq = range(101)\n",
      "lc2 = [x**2 for x in seq if x%5==0 and x%3==0]\n",
      "lc2"
     ],
     "language": "python",
     "metadata": {},
     "outputs": [
      {
       "metadata": {},
       "output_type": "pyout",
       "prompt_number": 12,
       "text": [
        "[0, 225, 900, 2025, 3600, 5625, 8100]"
       ]
      }
     ],
     "prompt_number": 12
    },
    {
     "cell_type": "code",
     "collapsed": false,
     "input": [
      "type(lc)"
     ],
     "language": "python",
     "metadata": {},
     "outputs": [
      {
       "metadata": {},
       "output_type": "pyout",
       "prompt_number": 7,
       "text": [
        "list"
       ]
      }
     ],
     "prompt_number": 7
    },
    {
     "cell_type": "heading",
     "level": 4,
     "metadata": {},
     "source": [
      "Generators (notar a diferen\u00e7a do Python 3)"
     ]
    },
    {
     "cell_type": "code",
     "collapsed": false,
     "input": [
      "gen1 = (x**(0.5) for x in seq if x%5==0 and x%3==0)\n",
      "gen1"
     ],
     "language": "python",
     "metadata": {},
     "outputs": [
      {
       "metadata": {},
       "output_type": "pyout",
       "prompt_number": 23,
       "text": [
        "<generator object <genexpr> at 0x0000000004273CF0>"
       ]
      }
     ],
     "prompt_number": 23
    },
    {
     "cell_type": "code",
     "collapsed": false,
     "input": [
      "gen1.__next__()"
     ],
     "language": "python",
     "metadata": {},
     "outputs": [
      {
       "metadata": {},
       "output_type": "pyout",
       "prompt_number": 25,
       "text": [
        "3.872983346207417"
       ]
      }
     ],
     "prompt_number": 25
    },
    {
     "cell_type": "code",
     "collapsed": false,
     "input": [
      "gen2 = (x**x for x in range(99999999999999))\n",
      "gen2"
     ],
     "language": "python",
     "metadata": {},
     "outputs": [
      {
       "metadata": {},
       "output_type": "pyout",
       "prompt_number": 26,
       "text": [
        "<generator object <genexpr> at 0x0000000004273C60>"
       ]
      }
     ],
     "prompt_number": 26
    },
    {
     "cell_type": "code",
     "collapsed": false,
     "input": [
      "gen2.__next__()"
     ],
     "language": "python",
     "metadata": {},
     "outputs": [
      {
       "metadata": {},
       "output_type": "pyout",
       "prompt_number": 40,
       "text": [
        "302875106592253"
       ]
      }
     ],
     "prompt_number": 40
    },
    {
     "cell_type": "heading",
     "level": 4,
     "metadata": {},
     "source": [
      "Dict Comprehension"
     ]
    },
    {
     "cell_type": "code",
     "collapsed": false,
     "input": [
      "d = {x.upper():y for x,y in [('um',1),('dois',2),('tres',3)]}\n",
      "d"
     ],
     "language": "python",
     "metadata": {},
     "outputs": [
      {
       "metadata": {},
       "output_type": "pyout",
       "prompt_number": 44,
       "text": [
        "{'TRES': 3, 'UM': 1, 'DOIS': 2}"
       ]
      }
     ],
     "prompt_number": 44
    },
    {
     "cell_type": "code",
     "collapsed": false,
     "input": [
      "d2 = dict([('um',1),('dois',2),('tres',3)])\n",
      "d2"
     ],
     "language": "python",
     "metadata": {},
     "outputs": [
      {
       "metadata": {},
       "output_type": "pyout",
       "prompt_number": 43,
       "text": [
        "{'um': 1, 'tres': 3, 'dois': 2}"
       ]
      }
     ],
     "prompt_number": 43
    },
    {
     "cell_type": "heading",
     "level": 4,
     "metadata": {},
     "source": [
      "Programa\u00e7\u00e3o Funcional em Python"
     ]
    },
    {
     "cell_type": "markdown",
     "metadata": {},
     "source": [
      "Fun\u00e7\u00f5es Lambda  \n",
      "Os comandos zip, map, filter e reduce"
     ]
    },
    {
     "cell_type": "heading",
     "level": 4,
     "metadata": {},
     "source": [
      "Comando zip"
     ]
    },
    {
     "cell_type": "code",
     "collapsed": false,
     "input": [
      "sq1 = [1,2,3,4,5,6,7,8]\n",
      "sq2 = ['a','b','c','d','e','f']\n",
      "z = zip(sq1,sq2)"
     ],
     "language": "python",
     "metadata": {},
     "outputs": [],
     "prompt_number": 67
    },
    {
     "cell_type": "code",
     "collapsed": false,
     "input": [
      "list(z)"
     ],
     "language": "python",
     "metadata": {},
     "outputs": [
      {
       "metadata": {},
       "output_type": "pyout",
       "prompt_number": 68,
       "text": [
        "[(1, 'a'), (2, 'b'), (3, 'c'), (4, 'd'), (5, 'e'), (6, 'f')]"
       ]
      }
     ],
     "prompt_number": 68
    },
    {
     "cell_type": "markdown",
     "metadata": {},
     "source": [
      "Voltando ao dict comprehension:"
     ]
    },
    {
     "cell_type": "code",
     "collapsed": false,
     "input": [
      "d3 = {x.upper():y for y,x in zip(sq1,sq2)}\n",
      "d3"
     ],
     "language": "python",
     "metadata": {},
     "outputs": [
      {
       "metadata": {},
       "output_type": "pyout",
       "prompt_number": 49,
       "text": [
        "{'F': 6, 'A': 1, 'E': 5, 'D': 4, 'B': 2, 'C': 3}"
       ]
      }
     ],
     "prompt_number": 49
    },
    {
     "cell_type": "code",
     "collapsed": false,
     "input": [
      "for elem in {2:3,4:5}.items():\n",
      "    print(elem)"
     ],
     "language": "python",
     "metadata": {},
     "outputs": [
      {
       "output_type": "stream",
       "stream": "stdout",
       "text": [
        "(2, 3)\n",
        "(4, 5)\n"
       ]
      }
     ],
     "prompt_number": 61
    },
    {
     "cell_type": "code",
     "collapsed": false,
     "input": [
      "s1 = [x.lower() for x in d3.keys()]\n",
      "s2 = [x for x in d3.values()]\n",
      "print(s1)\n",
      "print(s2)"
     ],
     "language": "python",
     "metadata": {},
     "outputs": [
      {
       "output_type": "stream",
       "stream": "stdout",
       "text": [
        "['f', 'a', 'e', 'd', 'b', 'c']\n",
        "[6, 1, 5, 4, 2, 3]\n"
       ]
      }
     ],
     "prompt_number": 65
    },
    {
     "cell_type": "code",
     "collapsed": false,
     "input": [
      "sq1 = [1,2,3,4,5,6,7,8]\n",
      "sq2 = ['a','b','c','d','e','f']\n",
      "z = zip(sq1,sq2)"
     ],
     "language": "python",
     "metadata": {},
     "outputs": [],
     "prompt_number": 70
    },
    {
     "cell_type": "code",
     "collapsed": false,
     "input": [
      "zi = zip(*z)"
     ],
     "language": "python",
     "metadata": {},
     "outputs": [],
     "prompt_number": 71
    },
    {
     "cell_type": "code",
     "collapsed": false,
     "input": [
      "list(zi)"
     ],
     "language": "python",
     "metadata": {},
     "outputs": [
      {
       "metadata": {},
       "output_type": "pyout",
       "prompt_number": 72,
       "text": [
        "[(1, 2, 3, 4, 5, 6), ('a', 'b', 'c', 'd', 'e', 'f')]"
       ]
      }
     ],
     "prompt_number": 72
    },
    {
     "cell_type": "code",
     "collapsed": false,
     "input": [
      "sq1 = [1,2,3,4,5,6,7,8]\n",
      "sq2 = ['a','b','c','d','e','f']\n",
      "sq3 = ['w','e','r','y']\n",
      "z4 = zip(sq1,sq2,sq3)\n",
      "list(z4)"
     ],
     "language": "python",
     "metadata": {},
     "outputs": [
      {
       "metadata": {},
       "output_type": "pyout",
       "prompt_number": 74,
       "text": [
        "[(1, 'a', 'w'), (2, 'b', 'e'), (3, 'c', 'r'), (4, 'd', 'y')]"
       ]
      }
     ],
     "prompt_number": 74
    },
    {
     "cell_type": "heading",
     "level": 4,
     "metadata": {},
     "source": [
      "Comando map:"
     ]
    },
    {
     "cell_type": "code",
     "collapsed": false,
     "input": [
      "def f(x):\n",
      "    return x**3"
     ],
     "language": "python",
     "metadata": {},
     "outputs": [],
     "prompt_number": 75
    },
    {
     "cell_type": "code",
     "collapsed": false,
     "input": [
      "f(4)"
     ],
     "language": "python",
     "metadata": {},
     "outputs": [
      {
       "metadata": {},
       "output_type": "pyout",
       "prompt_number": 76,
       "text": [
        "64"
       ]
      }
     ],
     "prompt_number": 76
    },
    {
     "cell_type": "code",
     "collapsed": false,
     "input": [
      "seq6 = [3,7,9,1,5,7]\n",
      "resultados = map(f,seq6)\n",
      "list(resultados)"
     ],
     "language": "python",
     "metadata": {},
     "outputs": [
      {
       "metadata": {},
       "output_type": "pyout",
       "prompt_number": 78,
       "text": [
        "[27, 343, 729, 1, 125, 343]"
       ]
      }
     ],
     "prompt_number": 78
    },
    {
     "cell_type": "markdown",
     "metadata": {},
     "source": [
      "Usando fun\u00e7\u00f5es lambda"
     ]
    },
    {
     "cell_type": "code",
     "collapsed": false,
     "input": [
      "f2 = lambda x:x**3"
     ],
     "language": "python",
     "metadata": {},
     "outputs": [],
     "prompt_number": 79
    },
    {
     "cell_type": "code",
     "collapsed": false,
     "input": [
      "f2(9)"
     ],
     "language": "python",
     "metadata": {},
     "outputs": [
      {
       "metadata": {},
       "output_type": "pyout",
       "prompt_number": 80,
       "text": [
        "729"
       ]
      }
     ],
     "prompt_number": 80
    },
    {
     "cell_type": "code",
     "collapsed": false,
     "input": [
      "resultados2 = map(lambda x:x**4,seq6)\n",
      "resultados2\n",
      "#list(resultados2)\n",
      "resultados2.__next__()"
     ],
     "language": "python",
     "metadata": {},
     "outputs": [
      {
       "metadata": {},
       "output_type": "pyout",
       "prompt_number": 86,
       "text": [
        "81"
       ]
      }
     ],
     "prompt_number": 86
    },
    {
     "cell_type": "code",
     "collapsed": false,
     "input": [
      "soma = lambda x,y:x+y"
     ],
     "language": "python",
     "metadata": {},
     "outputs": [],
     "prompt_number": 92
    },
    {
     "cell_type": "code",
     "collapsed": false,
     "input": [
      "soma(3,4)"
     ],
     "language": "python",
     "metadata": {},
     "outputs": [
      {
       "metadata": {},
       "output_type": "pyout",
       "prompt_number": 93,
       "text": [
        "7"
       ]
      }
     ],
     "prompt_number": 93
    },
    {
     "cell_type": "heading",
     "level": 4,
     "metadata": {},
     "source": [
      "Comando Reduce:"
     ]
    },
    {
     "cell_type": "code",
     "collapsed": false,
     "input": [
      "from functools import reduce"
     ],
     "language": "python",
     "metadata": {},
     "outputs": [],
     "prompt_number": 101
    },
    {
     "cell_type": "code",
     "collapsed": false,
     "input": [
      "seq9 = [1,2,3,4,5,6,7,8,9,10]\n",
      "mult = lambda x,y:x*y\n",
      "multiplica = reduce(mult,seq9)"
     ],
     "language": "python",
     "metadata": {},
     "outputs": [],
     "prompt_number": 103
    },
    {
     "cell_type": "code",
     "collapsed": false,
     "input": [
      "multiplica"
     ],
     "language": "python",
     "metadata": {},
     "outputs": [
      {
       "metadata": {},
       "output_type": "pyout",
       "prompt_number": 105,
       "text": [
        "3628800"
       ]
      }
     ],
     "prompt_number": 105
    },
    {
     "cell_type": "code",
     "collapsed": false,
     "input": [
      "seq10 = ['a','b','c','d','e','f','g']\n",
      "mult = lambda x,y:x+y\n",
      "multiplica2 = reduce(mult,seq10)\n",
      "multiplica2"
     ],
     "language": "python",
     "metadata": {},
     "outputs": [
      {
       "metadata": {},
       "output_type": "pyout",
       "prompt_number": 107,
       "text": [
        "'abcdefg'"
       ]
      }
     ],
     "prompt_number": 107
    },
    {
     "cell_type": "markdown",
     "metadata": {},
     "source": [
      "Exerc\u00edcio:  \n",
      "https://projecteuler.net/problem=8  \n",
      "(usando programa\u00e7\u00e3o funcional)"
     ]
    },
    {
     "cell_type": "code",
     "collapsed": false,
     "input": [
      "with open('numero_mil_digitos.txt', mode='r') as n:\n",
      "    num = n.read()\n",
      "num = num.replace('\\n','')\n",
      "\n",
      "mult = lambda x,y:int(x)*int(y)\n",
      "i = 0\n",
      "indice = 0\n",
      "maior = 0\n",
      "while i < (len(num)-12):\n",
      "    i += 1\n",
      "    numero = reduce(mult,num[i:i+13])\n",
      "    if numero > maior:\n",
      "        maior = numero\n",
      "        indice = i\n",
      "maior"
     ],
     "language": "python",
     "metadata": {},
     "outputs": [
      {
       "metadata": {},
       "output_type": "pyout",
       "prompt_number": 135,
       "text": [
        "23514624000"
       ]
      }
     ],
     "prompt_number": 135
    },
    {
     "cell_type": "code",
     "collapsed": false,
     "input": [
      "reduce(mult,num[indice:indice+13])"
     ],
     "language": "python",
     "metadata": {},
     "outputs": [
      {
       "metadata": {},
       "output_type": "pyout",
       "prompt_number": 133,
       "text": [
        "23514624000"
       ]
      }
     ],
     "prompt_number": 133
    },
    {
     "cell_type": "heading",
     "level": 4,
     "metadata": {},
     "source": [
      "Comando Filter:"
     ]
    },
    {
     "cell_type": "code",
     "collapsed": false,
     "input": [
      "resp = filter(lambda x:x.isupper(),'aAbB')\n",
      "list(resp)"
     ],
     "language": "python",
     "metadata": {},
     "outputs": [
      {
       "metadata": {},
       "output_type": "pyout",
       "prompt_number": 147,
       "text": [
        "['A', 'B']"
       ]
      }
     ],
     "prompt_number": 147
    },
    {
     "cell_type": "code",
     "collapsed": false,
     "input": [
      "resp = filter(lambda x:x.islower(),'aAbB')\n",
      "list(resp)"
     ],
     "language": "python",
     "metadata": {},
     "outputs": [
      {
       "metadata": {},
       "output_type": "pyout",
       "prompt_number": 157,
       "text": [
        "['a', 'A', 'b', 'B']"
       ]
      }
     ],
     "prompt_number": 157
    },
    {
     "cell_type": "code",
     "collapsed": false,
     "input": [
      "with open('texto_python.txt',mode='r',encoding='utf-8') as f:\n",
      "    texto = f.read()"
     ],
     "language": "python",
     "metadata": {},
     "outputs": [],
     "prompt_number": 158
    },
    {
     "cell_type": "code",
     "collapsed": false,
     "input": [
      "import string"
     ],
     "language": "python",
     "metadata": {},
     "outputs": [],
     "prompt_number": 165
    },
    {
     "cell_type": "code",
     "collapsed": false,
     "input": [
      "string.punctuation"
     ],
     "language": "python",
     "metadata": {},
     "outputs": [
      {
       "metadata": {},
       "output_type": "pyout",
       "prompt_number": 206,
       "text": [
        "'!\"#$%&\\'()*+,-./:;<=>?@[\\\\]^_`{|}~'"
       ]
      }
     ],
     "prompt_number": 206
    },
    {
     "cell_type": "code",
     "collapsed": false,
     "input": [
      "l_texto = texto.split()\n",
      "l_texto = [l for l in l_texto if not l[0] in string.punctuation and len(l)>1]\n",
      "l_texto_M = filter(lambda x:x.istitle(),l_texto)\n",
      "#list(l_texto_M)"
     ],
     "language": "python",
     "metadata": {},
     "outputs": [],
     "prompt_number": 174
    },
    {
     "cell_type": "code",
     "collapsed": false,
     "input": [
      "import requests\n",
      "from bs4 import BeautifulSoup\n",
      "import nltk\n",
      "from collections import Counter"
     ],
     "language": "python",
     "metadata": {},
     "outputs": [],
     "prompt_number": 192
    },
    {
     "cell_type": "code",
     "collapsed": false,
     "input": [
      "texto = requests.get('http://pt.wikipedia.org/wiki/Massacre_do_Charlie_Hebdo')\n",
      "soup = BeautifulSoup(texto.content)\n",
      "l_texto = soup.get_text().split()\n",
      "stopwords = nltk.corpus.stopwords.words('portuguese')"
     ],
     "language": "python",
     "metadata": {},
     "outputs": [],
     "prompt_number": 248
    },
    {
     "cell_type": "code",
     "collapsed": false,
     "input": [
      "lista_limpa = [l.strip(',') for l in l_texto if l not in stopwords and len(l)>1]"
     ],
     "language": "python",
     "metadata": {},
     "outputs": [],
     "prompt_number": 263
    },
    {
     "cell_type": "code",
     "collapsed": false,
     "input": [
      "def acha_nomes(lista):\n",
      "    nomes = []\n",
      "    for i in range(1,len(lista)):\n",
      "        if lista[i].istitle() and lista[i-1][-1] not in string.punctuation:\n",
      "            nomes.append(lista[i])\n",
      "    return nomes"
     ],
     "language": "python",
     "metadata": {},
     "outputs": [],
     "prompt_number": 266
    },
    {
     "cell_type": "code",
     "collapsed": false,
     "input": [
      "nomes = acha_nomes(lista_limpa)\n",
      "freq_nomes = Counter(nomes)\n",
      "freq_nomes.most_common(50)"
     ],
     "language": "python",
     "metadata": {},
     "outputs": [
      {
       "metadata": {},
       "output_type": "pyout",
       "prompt_number": 267,
       "text": [
        "[('Hebdo', 98),\n",
        " ('Charlie', 78),\n",
        " ('Paris', 60),\n",
        " ('Fran\u00e7a', 35),\n",
        " ('Kouachi', 23),\n",
        " ('Atentado', 23),\n",
        " ('Coulibaly', 22),\n",
        " ('Le', 21),\n",
        " ('The', 20),\n",
        " ('French', 16),\n",
        " ('Vincennes', 14),\n",
        " ('News', 14),\n",
        " ('Amedy', 14),\n",
        " ('Porte', 12),\n",
        " ('Estados', 10),\n",
        " ('Hebdo\"', 10),\n",
        " ('Montrouge', 10),\n",
        " ('Ataque', 10),\n",
        " ('News.', 9),\n",
        " ('Hollande', 9),\n",
        " ('Unidos', 9),\n",
        " ('Atentados', 8),\n",
        " ('Portugu\u00eas)', 8),\n",
        " ('Daily', 8),\n",
        " ('Ch\u00e9rif', 7),\n",
        " ('Massacre', 7),\n",
        " ('France', 7),\n",
        " ('Fran\u00e7ois', 7),\n",
        " ('Iraque', 7),\n",
        " ('Paris.', 6),\n",
        " ('Guardian', 6),\n",
        " ('Boumeddiene', 6),\n",
        " ('Londres', 6),\n",
        " ('Guerra', 6),\n",
        " ('Abu', 6),\n",
        " ('Attack', 6),\n",
        " ('Monde', 6),\n",
        " ('Hebdo.', 5),\n",
        " ('Villers-Cotter\u00eats', 5),\n",
        " ('Rela\u00e7\u00f5es', 5),\n",
        " ('\"Je', 5),\n",
        " ('Al-Qaeda', 5),\n",
        " ('Sarkozy', 5),\n",
        " ('Nicolas', 5),\n",
        " ('Monde.', 5),\n",
        " ('Isl\u00e2mico', 5),\n",
        " ('\"Charlie', 5),\n",
        " ('Charb', 5),\n",
        " ('Exteriores', 5),\n",
        " ('Michel', 5)]"
       ]
      }
     ],
     "prompt_number": 267
    },
    {
     "cell_type": "code",
     "collapsed": false,
     "input": [],
     "language": "python",
     "metadata": {},
     "outputs": []
    }
   ],
   "metadata": {}
  }
 ]
}