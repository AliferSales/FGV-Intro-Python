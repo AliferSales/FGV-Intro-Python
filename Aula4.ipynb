{
 "metadata": {
  "name": "",
  "signature": "sha256:654066d793a68157cef013842c324a44d61c733335274d916b3a7f9d1cfbf2ed"
 },
 "nbformat": 3,
 "nbformat_minor": 0,
 "worksheets": [
  {
   "cells": [
    {
     "cell_type": "markdown",
     "metadata": {},
     "source": [
      "FGV - Escola de Matem\u00e1tica Aplicada\n",
      "==\n",
      "Curso de Ver\u00e3o - Introdu\u00e7\u00e3o \u00e0 Programa\u00e7\u00e3o com a Linguagem Python\n",
      "--"
     ]
    },
    {
     "cell_type": "markdown",
     "metadata": {},
     "source": [
      "Resolvendo o exerc\u00edcio:  \n",
      "https://projecteuler.net/problem=4  \n",
      "\n",
      "\"A palindromic number reads the same both ways. The largest palindrome made from the product of two 2-digit numbers is 9009 = 91 \u00d7 99.  \n",
      "Find the largest palindrome made from the product of two 3-digit numbers.\""
     ]
    },
    {
     "cell_type": "code",
     "collapsed": false,
     "input": [
      "#Gerando a lista de produtos:\n",
      "produtos = set([])\n",
      "for i in range(999):\n",
      "    for j in range(999):\n",
      "        produtos.add(i*j)"
     ],
     "language": "python",
     "metadata": {},
     "outputs": [],
     "prompt_number": 1
    },
    {
     "cell_type": "markdown",
     "metadata": {},
     "source": [
      "Como inverter uma string?"
     ]
    },
    {
     "cell_type": "code",
     "collapsed": false,
     "input": [
      "'Uma string comum'[0:7]"
     ],
     "language": "python",
     "metadata": {},
     "outputs": [
      {
       "metadata": {},
       "output_type": "pyout",
       "prompt_number": 1,
       "text": [
        "'Uma str'"
       ]
      }
     ],
     "prompt_number": 1
    },
    {
     "cell_type": "code",
     "collapsed": false,
     "input": [
      "'Uma string comum'[-1:-6:-1]"
     ],
     "language": "python",
     "metadata": {},
     "outputs": [
      {
       "metadata": {},
       "output_type": "pyout",
       "prompt_number": 11,
       "text": [
        "'mumoc'"
       ]
      }
     ],
     "prompt_number": 11
    },
    {
     "cell_type": "code",
     "collapsed": false,
     "input": [
      "'Uma string comum'[-1::-1]"
     ],
     "language": "python",
     "metadata": {},
     "outputs": [
      {
       "metadata": {},
       "output_type": "pyout",
       "prompt_number": 10,
       "text": [
        "'mumoc gnirts amU'"
       ]
      }
     ],
     "prompt_number": 10
    },
    {
     "cell_type": "code",
     "collapsed": false,
     "input": [
      "#Testando se s\u00e3o pal\u00edndromos\n",
      "maior_palindromo = 0\n",
      "for numero in produtos:\n",
      "    string_numero = str(numero)\n",
      "    if string_numero == string_numero[::-1] and int(string_numero) > maior_palindromo:\n",
      "        maior_palindromo = int(string_numero)\n",
      "print(maior_palindromo)"
     ],
     "language": "python",
     "metadata": {},
     "outputs": [
      {
       "output_type": "stream",
       "stream": "stdout",
       "text": [
        "906609\n"
       ]
      }
     ],
     "prompt_number": 13
    },
    {
     "cell_type": "heading",
     "level": 4,
     "metadata": {},
     "source": [
      "Empacotamento e desempacotamento de tuplas"
     ]
    },
    {
     "cell_type": "code",
     "collapsed": false,
     "input": [
      "tupla_falsa = (1)\n",
      "tupla_verdadeira = (1,)\n",
      "print(type(tupla_falsa))\n",
      "print(type(tupla_verdadeira))"
     ],
     "language": "python",
     "metadata": {},
     "outputs": [
      {
       "output_type": "stream",
       "stream": "stdout",
       "text": [
        "<class 'int'>\n",
        "<class 'tuple'>\n"
       ]
      }
     ],
     "prompt_number": 6
    },
    {
     "cell_type": "code",
     "collapsed": false,
     "input": [
      "t = (2,3,4)\n",
      "x,y,z = t\n",
      "print(t)\n",
      "print(x)"
     ],
     "language": "python",
     "metadata": {},
     "outputs": [
      {
       "output_type": "stream",
       "stream": "stdout",
       "text": [
        "(2, 3, 4)\n",
        "2\n"
       ]
      }
     ],
     "prompt_number": 7
    },
    {
     "cell_type": "code",
     "collapsed": false,
     "input": [
      "x, y = 10, 19\n",
      "print(y)\n",
      "print(x)"
     ],
     "language": "python",
     "metadata": {},
     "outputs": [
      {
       "output_type": "stream",
       "stream": "stdout",
       "text": [
        "19\n",
        "10\n"
       ]
      }
     ],
     "prompt_number": 5
    },
    {
     "cell_type": "code",
     "collapsed": false,
     "input": [
      "x, *y = (1,2,3,4)\n",
      "print(x)\n",
      "print(y)"
     ],
     "language": "python",
     "metadata": {},
     "outputs": [
      {
       "output_type": "stream",
       "stream": "stdout",
       "text": [
        "1\n",
        "[2, 3, 4]\n"
       ]
      }
     ],
     "prompt_number": 10
    },
    {
     "cell_type": "markdown",
     "metadata": {},
     "source": [
      "Fibonacci otimizado"
     ]
    },
    {
     "cell_type": "code",
     "collapsed": false,
     "input": [
      "x,y = 1,1\n",
      "while y < 1000:\n",
      "    x,y = y,x+y\n",
      "    print(x)"
     ],
     "language": "python",
     "metadata": {},
     "outputs": [
      {
       "output_type": "stream",
       "stream": "stdout",
       "text": [
        "1\n",
        "2\n",
        "3\n",
        "5\n",
        "8\n",
        "13\n",
        "21\n",
        "34\n",
        "55\n",
        "89\n",
        "144\n",
        "233\n",
        "377\n",
        "610\n",
        "987\n"
       ]
      }
     ],
     "prompt_number": 13
    },
    {
     "cell_type": "heading",
     "level": 4,
     "metadata": {},
     "source": [
      "Fun\u00e7\u00f5es"
     ]
    },
    {
     "cell_type": "code",
     "collapsed": false,
     "input": [
      "def faz_nada():\n",
      "    pass"
     ],
     "language": "python",
     "metadata": {},
     "outputs": [],
     "prompt_number": 17
    },
    {
     "cell_type": "code",
     "collapsed": false,
     "input": [
      "def soma(x,y):\n",
      "    return x + y"
     ],
     "language": "python",
     "metadata": {},
     "outputs": [],
     "prompt_number": 24
    },
    {
     "cell_type": "code",
     "collapsed": false,
     "input": [
      "x = soma(20,60)\n",
      "print(x)"
     ],
     "language": "python",
     "metadata": {},
     "outputs": [
      {
       "output_type": "stream",
       "stream": "stdout",
       "text": [
        "80\n"
       ]
      }
     ],
     "prompt_number": 21
    },
    {
     "cell_type": "code",
     "collapsed": false,
     "input": [
      "def soma2(*args):\n",
      "    print(args)\n",
      "    print('a soma \u00e9 {}'.format(sum(args)))\n",
      "    return sum(args)"
     ],
     "language": "python",
     "metadata": {},
     "outputs": [],
     "prompt_number": 36
    },
    {
     "cell_type": "code",
     "collapsed": false,
     "input": [
      "y = soma2(23,45,78,46,67)\n",
      "#print(y)"
     ],
     "language": "python",
     "metadata": {},
     "outputs": [
      {
       "output_type": "stream",
       "stream": "stdout",
       "text": [
        "(23, 45, 78, 46, 67)\n",
        "a soma \u00e9 259\n"
       ]
      }
     ],
     "prompt_number": 37
    },
    {
     "cell_type": "code",
     "collapsed": false,
     "input": [
      "def ordem(x,y,z):\n",
      "    if x >= y and x >= z:\n",
      "        print('o maior \u00e9 {}'.format(x))\n",
      "        if y >= z:\n",
      "            print('o do meio \u00e9 {}'.format(y))\n",
      "            print('o menor \u00e9 {}'.format(z))\n",
      "        else:\n",
      "            print('o do meio \u00e9 {}'.format(z))\n",
      "            print('o menor \u00e9 {}'.format(y))\n",
      "    elif y >= x and y >= z:\n",
      "        print('o maior \u00e9 {}'.format(y))\n",
      "        if x >= z:\n",
      "            print('o do meio \u00e9 {}'.format(x))\n",
      "            print('o menor \u00e9 {}'.format(z))\n",
      "        else:\n",
      "            print('o do meio \u00e9 {}'.format(z))\n",
      "            print('o menor \u00e9 {}'.format(x))\n",
      "    else:\n",
      "        print('o maior \u00e9 {}'.format(z))\n",
      "        if x >= y:\n",
      "            print('o do meio \u00e9 {}'.format(x))\n",
      "            print('o menor \u00e9 {}'.format(y))\n",
      "        else:\n",
      "            print('o do meio \u00e9 {}'.format(y))\n",
      "            print('o menor \u00e9 {}'.format(x))"
     ],
     "language": "python",
     "metadata": {},
     "outputs": [],
     "prompt_number": 39
    },
    {
     "cell_type": "code",
     "collapsed": false,
     "input": [
      "ordem(56,21,98)"
     ],
     "language": "python",
     "metadata": {},
     "outputs": [
      {
       "output_type": "stream",
       "stream": "stdout",
       "text": [
        "o maior \u00e9 98\n",
        "o do meio \u00e9 56\n",
        "o menor \u00e9 21\n"
       ]
      }
     ],
     "prompt_number": 40
    },
    {
     "cell_type": "code",
     "collapsed": false,
     "input": [
      "def anuncia(status,numero):\n",
      "    print('O {} \u00e9 {}'.format(status, numero))"
     ],
     "language": "python",
     "metadata": {},
     "outputs": [],
     "prompt_number": 10
    },
    {
     "cell_type": "code",
     "collapsed": false,
     "input": [
      "def ordem2(x,y,z):\n",
      "    l = [x,y,z]\n",
      "    l.sort()\n",
      "    anuncia('maior',l[2])\n",
      "    anuncia('do meio',l[1])\n",
      "    anuncia('menor',l[0])"
     ],
     "language": "python",
     "metadata": {},
     "outputs": [],
     "prompt_number": 11
    },
    {
     "cell_type": "code",
     "collapsed": false,
     "input": [
      "ordem2(56,56,98)"
     ],
     "language": "python",
     "metadata": {},
     "outputs": [
      {
       "output_type": "stream",
       "stream": "stdout",
       "text": [
        "O maior \u00e9 98\n",
        "O do meio \u00e9 56\n",
        "O menor \u00e9 56\n"
       ]
      }
     ],
     "prompt_number": 9
    },
    {
     "cell_type": "code",
     "collapsed": false,
     "input": [
      "#Cuidado com valores altos na fun\u00e7\u00e3o abaixo\n",
      "def fibo_recursivo(n):\n",
      "    if n <= 0:\n",
      "        print('n\u00famero inv\u00e1lido')\n",
      "        return\n",
      "    if n == 1:\n",
      "        return 0\n",
      "    elif n == 2:\n",
      "        return 1\n",
      "    else:\n",
      "        print(fibo_recursivo(n-1) + fibo_recursivo(n-2))\n",
      "        return fibo_recursivo(n-1) + fibo_recursivo(n-2)"
     ],
     "language": "python",
     "metadata": {},
     "outputs": [],
     "prompt_number": 13
    },
    {
     "cell_type": "code",
     "collapsed": false,
     "input": [
      "fibo_recursivo(4)"
     ],
     "language": "python",
     "metadata": {},
     "outputs": [
      {
       "output_type": "stream",
       "stream": "stdout",
       "text": [
        "1\n",
        "2\n",
        "1\n"
       ]
      },
      {
       "metadata": {},
       "output_type": "pyout",
       "prompt_number": 14,
       "text": [
        "2"
       ]
      }
     ],
     "prompt_number": 14
    },
    {
     "cell_type": "code",
     "collapsed": false,
     "input": [
      "def raiz(n,raiz=2):\n",
      "    return n ** (1./raiz)"
     ],
     "language": "python",
     "metadata": {},
     "outputs": [],
     "prompt_number": 15
    },
    {
     "cell_type": "code",
     "collapsed": false,
     "input": [
      "raiz(27)"
     ],
     "language": "python",
     "metadata": {},
     "outputs": [
      {
       "metadata": {},
       "output_type": "pyout",
       "prompt_number": 21,
       "text": [
        "5.196152422706632"
       ]
      }
     ],
     "prompt_number": 21
    },
    {
     "cell_type": "code",
     "collapsed": false,
     "input": [
      "raiz(64,3)"
     ],
     "language": "python",
     "metadata": {},
     "outputs": [
      {
       "metadata": {},
       "output_type": "pyout",
       "prompt_number": 23,
       "text": [
        "3.9999999999999996"
       ]
      }
     ],
     "prompt_number": 23
    },
    {
     "cell_type": "code",
     "collapsed": false,
     "input": [
      "import math"
     ],
     "language": "python",
     "metadata": {},
     "outputs": [],
     "prompt_number": 25
    },
    {
     "cell_type": "code",
     "collapsed": false,
     "input": [
      "def raiz2(n,raiz=2):\n",
      "    return math.pow(n,(1./raiz))"
     ],
     "language": "python",
     "metadata": {},
     "outputs": [],
     "prompt_number": 27
    },
    {
     "cell_type": "code",
     "collapsed": false,
     "input": [
      "raiz2(64,3)"
     ],
     "language": "python",
     "metadata": {},
     "outputs": [
      {
       "metadata": {},
       "output_type": "pyout",
       "prompt_number": 28,
       "text": [
        "3.9999999999999996"
       ]
      }
     ],
     "prompt_number": 28
    },
    {
     "cell_type": "code",
     "collapsed": false,
     "input": [
      "def qualquer(primeiro=10,segundo=11):\n",
      "    return segundo + primeiro"
     ],
     "language": "python",
     "metadata": {},
     "outputs": [],
     "prompt_number": 29
    },
    {
     "cell_type": "code",
     "collapsed": false,
     "input": [
      "x = qualquer(3,6)\n",
      "print(x)"
     ],
     "language": "python",
     "metadata": {},
     "outputs": [
      {
       "output_type": "stream",
       "stream": "stdout",
       "text": [
        "9\n"
       ]
      }
     ],
     "prompt_number": 84
    },
    {
     "cell_type": "code",
     "collapsed": false,
     "input": [
      "qualquer(2)"
     ],
     "language": "python",
     "metadata": {},
     "outputs": [
      {
       "metadata": {},
       "output_type": "pyout",
       "prompt_number": 33,
       "text": [
        "13"
       ]
      }
     ],
     "prompt_number": 33
    },
    {
     "cell_type": "code",
     "collapsed": false,
     "input": [
      "qualquer(segundo=2)"
     ],
     "language": "python",
     "metadata": {},
     "outputs": [
      {
       "metadata": {},
       "output_type": "pyout",
       "prompt_number": 34,
       "text": [
        "12"
       ]
      }
     ],
     "prompt_number": 34
    },
    {
     "cell_type": "code",
     "collapsed": false,
     "input": [
      "def indefinido(*args):\n",
      "    for arg in args:\n",
      "        print(arg)"
     ],
     "language": "python",
     "metadata": {},
     "outputs": [],
     "prompt_number": 37
    },
    {
     "cell_type": "code",
     "collapsed": false,
     "input": [
      "indefinido(5,1,2,'string')"
     ],
     "language": "python",
     "metadata": {},
     "outputs": [
      {
       "output_type": "stream",
       "stream": "stdout",
       "text": [
        "5\n",
        "1\n",
        "2\n",
        "string\n"
       ]
      }
     ],
     "prompt_number": 40
    },
    {
     "cell_type": "code",
     "collapsed": false,
     "input": [
      "def indefinido2(*args,**kwargs):\n",
      "    for arg in args:\n",
      "        print(arg)\n",
      "    print('aqui separamos os prints')\n",
      "    print(kwargs)\n",
      "    print(kwargs.keys())"
     ],
     "language": "python",
     "metadata": {},
     "outputs": [],
     "prompt_number": 48
    },
    {
     "cell_type": "code",
     "collapsed": false,
     "input": [
      "indefinido2(2,3,nome='Renato',inst='FGV')"
     ],
     "language": "python",
     "metadata": {},
     "outputs": [
      {
       "output_type": "stream",
       "stream": "stdout",
       "text": [
        "2\n",
        "3\n",
        "aqui separamos os prints\n",
        "{'inst': 'FGV', 'nome': 'Renato'}\n",
        "dict_keys(['inst', 'nome'])\n"
       ]
      }
     ],
     "prompt_number": 49
    },
    {
     "cell_type": "code",
     "collapsed": false,
     "input": [
      "indefinido2(mensagem = 'Hello World')"
     ],
     "language": "python",
     "metadata": {},
     "outputs": [
      {
       "output_type": "stream",
       "stream": "stdout",
       "text": [
        "aqui separamos os prints\n",
        "{'mensagem': 'Hello World'}\n"
       ]
      }
     ],
     "prompt_number": 47
    },
    {
     "cell_type": "code",
     "collapsed": false,
     "input": [
      "def recebe_notas(**kwargs):\n",
      "    if 'Matematica' in kwargs:\n",
      "        print('A nota de Matem\u00e1tica \u00e9 {}'.format(kwargs['Matematica']))\n",
      "    else:\n",
      "        print('N\u00e3o foi passada a nota de Matem\u00e1tica')"
     ],
     "language": "python",
     "metadata": {},
     "outputs": [],
     "prompt_number": 53
    },
    {
     "cell_type": "code",
     "collapsed": false,
     "input": [
      "recebe_notas(Matematica=9,Portugues=8)"
     ],
     "language": "python",
     "metadata": {},
     "outputs": [
      {
       "output_type": "stream",
       "stream": "stdout",
       "text": [
        "A nota de Matem\u00e1tica \u00e9 9\n"
       ]
      }
     ],
     "prompt_number": 54
    },
    {
     "cell_type": "code",
     "collapsed": false,
     "input": [
      "recebe_notas(Historia=8)"
     ],
     "language": "python",
     "metadata": {},
     "outputs": [
      {
       "output_type": "stream",
       "stream": "stdout",
       "text": [
        "N\u00e3o foi passada a nota de Matem\u00e1tica\n"
       ]
      }
     ],
     "prompt_number": 55
    },
    {
     "cell_type": "code",
     "collapsed": false,
     "input": [
      "nome = input('Entre com seu nome: ')"
     ],
     "language": "python",
     "metadata": {},
     "outputs": [
      {
       "name": "stdout",
       "output_type": "stream",
       "stream": "stdout",
       "text": [
        "Entre com seu nome: Renato\n"
       ]
      }
     ],
     "prompt_number": 60
    },
    {
     "cell_type": "code",
     "collapsed": false,
     "input": [
      "nome"
     ],
     "language": "python",
     "metadata": {},
     "outputs": [
      {
       "metadata": {},
       "output_type": "pyout",
       "prompt_number": 61,
       "text": [
        "'Renato'"
       ]
      }
     ],
     "prompt_number": 61
    },
    {
     "cell_type": "code",
     "collapsed": false,
     "input": [
      "def cordial():\n",
      "    nome = input('Qual o seu nome? ')\n",
      "    print('Como voc\u00ea vai hoje, {} ?'.format(nome))"
     ],
     "language": "python",
     "metadata": {},
     "outputs": [],
     "prompt_number": 62
    },
    {
     "cell_type": "code",
     "collapsed": false,
     "input": [
      "cordial()"
     ],
     "language": "python",
     "metadata": {},
     "outputs": [
      {
       "name": "stdout",
       "output_type": "stream",
       "stream": "stdout",
       "text": [
        "Qual o seu nome? Renato\n"
       ]
      },
      {
       "output_type": "stream",
       "stream": "stdout",
       "text": [
        "Como voc\u00ea vai hoje, Renato ?\n"
       ]
      }
     ],
     "prompt_number": 63
    },
    {
     "cell_type": "code",
     "collapsed": false,
     "input": [
      "def imc():\n",
      "    massa = input('Qual o seu peso? ')\n",
      "    if not massa.isdigit():\n",
      "        print('Valor Invalido')\n",
      "        imc()\n",
      "        return\n",
      "    altura = input('Qual a sua altura? ')\n",
      "    if not altura.isdigit():\n",
      "        print('Valor Invalido')\n",
      "        imc()\n",
      "        return\n",
      "    print('Seu IMC \u00e9 {}'.format((float(massa)/float(altura)**2)))"
     ],
     "language": "python",
     "metadata": {},
     "outputs": [],
     "prompt_number": 79
    },
    {
     "cell_type": "code",
     "collapsed": false,
     "input": [
      "x = imc()"
     ],
     "language": "python",
     "metadata": {},
     "outputs": [
      {
       "name": "stdout",
       "output_type": "stream",
       "stream": "stdout",
       "text": [
        "Qual o seu peso? 72\n"
       ]
      },
      {
       "name": "stdout",
       "output_type": "stream",
       "stream": "stdout",
       "text": [
        "Qual a sua altura? 183\n"
       ]
      },
      {
       "output_type": "stream",
       "stream": "stdout",
       "text": [
        "Seu IMC \u00e9 0.002149959688255845\n"
       ]
      }
     ],
     "prompt_number": 81
    },
    {
     "cell_type": "code",
     "collapsed": false,
     "input": [
      "x"
     ],
     "language": "python",
     "metadata": {},
     "outputs": [],
     "prompt_number": 82
    },
    {
     "cell_type": "code",
     "collapsed": false,
     "input": [
      "def recebe_altura(x):\n",
      "    x = str(x)\n",
      "    print(x)\n",
      "    x = x.replace(',','.')\n",
      "    print(x)"
     ],
     "language": "python",
     "metadata": {},
     "outputs": [],
     "prompt_number": 96
    },
    {
     "cell_type": "code",
     "collapsed": false,
     "input": [
      "recebe_altura(1.87)"
     ],
     "language": "python",
     "metadata": {},
     "outputs": [
      {
       "output_type": "stream",
       "stream": "stdout",
       "text": [
        "1.87\n",
        "1.87\n"
       ]
      }
     ],
     "prompt_number": 97
    },
    {
     "cell_type": "markdown",
     "metadata": {},
     "source": [
      "Resolvendo o exerc\u00edcio:  \n",
      "https://projecteuler.net/problem=3  \n",
      "\n",
      "The prime factors of 13195 are 5, 7, 13 and 29.  \n",
      "What is the largest prime factor of the number 600851475143 ?"
     ]
    },
    {
     "cell_type": "markdown",
     "metadata": {},
     "source": [
      "Resolvendo o exerc\u00edcio:  \n",
      "https://projecteuler.net/problem=14\n",
      "\n",
      "The following iterative sequence is defined for the set of positive integers:\n",
      "\n",
      "n \u2192 n/2 (n is even)\n",
      "n \u2192 3n + 1 (n is odd)\n",
      "\n",
      "Using the rule above and starting with 13, we generate the following sequence:\n",
      "13 \u2192 40 \u2192 20 \u2192 10 \u2192 5 \u2192 16 \u2192 8 \u2192 4 \u2192 2 \u2192 1\n",
      "\n",
      "It can be seen that this sequence (starting at 13 and finishing at 1) contains 10 terms. Although it has not been proved yet (Collatz Problem), it is thought that all starting numbers finish at 1.\n",
      "\n",
      "Which starting number, under one million, produces the longest chain?\n",
      "\n",
      "NOTE: Once the chain starts the terms are allowed to go above one million.\n"
     ]
    },
    {
     "cell_type": "code",
     "collapsed": false,
     "input": [],
     "language": "python",
     "metadata": {},
     "outputs": []
    }
   ],
   "metadata": {}
  }
 ]
}