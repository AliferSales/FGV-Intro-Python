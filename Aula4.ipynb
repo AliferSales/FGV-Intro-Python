{
 "metadata": {
  "name": "",
  "signature": "sha256:74ddb81da56443b1315bf338bacaeff0894d01c0e07424e9936ca28d36f275d2"
 },
 "nbformat": 3,
 "nbformat_minor": 0,
 "worksheets": [
  {
   "cells": [
    {
     "cell_type": "markdown",
     "metadata": {},
     "source": [
      "FGV - Escola de Matem\u00e1tica Aplicada\n",
      "==\n",
      "Curso de Ver\u00e3o - Introdu\u00e7\u00e3o \u00e0 Programa\u00e7\u00e3o com a Linguagem Python\n",
      "--"
     ]
    },
    {
     "cell_type": "markdown",
     "metadata": {},
     "source": [
      "Resolvendo o exerc\u00edcio:  \n",
      "https://projecteuler.net/problem=4  \n",
      "\n",
      "\"A palindromic number reads the same both ways. The largest palindrome made from the product of two 2-digit numbers is 9009 = 91 \u00d7 99.  \n",
      "Find the largest palindrome made from the product of two 3-digit numbers.\""
     ]
    },
    {
     "cell_type": "code",
     "collapsed": false,
     "input": [
      "#Gerando a lista de produtos:\n",
      "produtos = set([])\n",
      "for i in range(999):\n",
      "    for j in range(999):\n",
      "        produtos.add(i*j)"
     ],
     "language": "python",
     "metadata": {},
     "outputs": [],
     "prompt_number": 1
    },
    {
     "cell_type": "markdown",
     "metadata": {},
     "source": [
      "Como inverter uma string?"
     ]
    },
    {
     "cell_type": "code",
     "collapsed": false,
     "input": [
      "'Uma string comum'[0:7]"
     ],
     "language": "python",
     "metadata": {},
     "outputs": [
      {
       "metadata": {},
       "output_type": "pyout",
       "prompt_number": 7,
       "text": [
        "'Uma str'"
       ]
      }
     ],
     "prompt_number": 7
    },
    {
     "cell_type": "code",
     "collapsed": false,
     "input": [
      "'Uma string comum'[-1:-6:-1]"
     ],
     "language": "python",
     "metadata": {},
     "outputs": [
      {
       "metadata": {},
       "output_type": "pyout",
       "prompt_number": 11,
       "text": [
        "'mumoc'"
       ]
      }
     ],
     "prompt_number": 11
    },
    {
     "cell_type": "code",
     "collapsed": false,
     "input": [
      "'Uma string comum'[-1::-1]"
     ],
     "language": "python",
     "metadata": {},
     "outputs": [
      {
       "metadata": {},
       "output_type": "pyout",
       "prompt_number": 10,
       "text": [
        "'mumoc gnirts amU'"
       ]
      }
     ],
     "prompt_number": 10
    },
    {
     "cell_type": "code",
     "collapsed": false,
     "input": [
      "#Testando se s\u00e3o pal\u00edndromos\n",
      "maior_palindromo = 0\n",
      "for numero in produtos:\n",
      "    string_numero = str(numero)\n",
      "    if string_numero == string_numero[::-1] and int(string_numero) > maior_palindromo:\n",
      "        maior_palindromo = int(string_numero)\n",
      "print(maior_palindromo)"
     ],
     "language": "python",
     "metadata": {},
     "outputs": [
      {
       "output_type": "stream",
       "stream": "stdout",
       "text": [
        "906609\n"
       ]
      }
     ],
     "prompt_number": 13
    },
    {
     "cell_type": "heading",
     "level": 4,
     "metadata": {},
     "source": [
      "Fun\u00e7\u00f5es"
     ]
    },
    {
     "cell_type": "code",
     "collapsed": false,
     "input": [],
     "language": "python",
     "metadata": {},
     "outputs": []
    },
    {
     "cell_type": "code",
     "collapsed": false,
     "input": [],
     "language": "python",
     "metadata": {},
     "outputs": []
    },
    {
     "cell_type": "code",
     "collapsed": false,
     "input": [],
     "language": "python",
     "metadata": {},
     "outputs": []
    },
    {
     "cell_type": "markdown",
     "metadata": {},
     "source": [
      "Resolvendo o exerc\u00edcio:  \n",
      "https://projecteuler.net/problem=3  \n",
      "\n",
      "The prime factors of 13195 are 5, 7, 13 and 29.  \n",
      "What is the largest prime factor of the number 600851475143 ?"
     ]
    },
    {
     "cell_type": "code",
     "collapsed": false,
     "input": [],
     "language": "python",
     "metadata": {},
     "outputs": []
    }
   ],
   "metadata": {}
  }
 ]
}