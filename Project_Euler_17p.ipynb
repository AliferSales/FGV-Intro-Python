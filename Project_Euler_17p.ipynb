{
 "cells": [
  {
   "cell_type": "markdown",
   "metadata": {},
   "source": [
    "Contando as letras dos números\n",
    "\n",
    "Se os números de 1 a 5 fossem escritos em palavras: um, dois, três, quatro, cinco, então teríamos utilizado 2 + 4 + 4 + 6 + 5 = 21 letras no total.\n",
    "Se todos os números de 1 até 1000 fossem escritos em palavras, quantas letras nós teríamos utilizado?\n",
    " \n",
    "Traduzido e adaptado de: http://projecteuler.net/index.php?section=problems&id=17"
   ]
  },
  {
   "cell_type": "code",
   "execution_count": 1,
   "metadata": {
    "collapsed": true
   },
   "outputs": [],
   "source": [
    "dic_unidade = {1:'um', 2:'dois', 3:'tres', 4:'quatro', 5:'cinco', \n",
    "               6:'seis', 7:'sete', 8:'oito', 9:'nove'}\n",
    "dic_dezena = {1:'dez', 2:'vinte', 3:'trinta', 4:'quarenta', 5:'cinquenta', \n",
    "              6:'sessenta', 7:'setenta', 8:'oitenta', 9:'noventa',\n",
    "              11:'onze', 12:'doze', 13:'treze', 14:'catorze', 15:'quinze',\n",
    "              16:'dezesseis', 17:'dezessete', 18:'dezoito', 19:'dezenove'}\n",
    "dic_centena = {1:'cento', 2:'duzentos', 3:'trezentos', 4:'quatrocentos', 5:'quinhentos', \n",
    "               6:'seiscentos', 7:'setecentos', 8:'oitocentos', 9:'novecentos'}"
   ]
  },
  {
   "cell_type": "code",
   "execution_count": 2,
   "metadata": {
    "collapsed": true
   },
   "outputs": [],
   "source": [
    "def retorna_extenso(numero):\n",
    "    if len(str(numero)) == 1:\n",
    "        return(dic_unidade[numero])\n",
    "    elif len(str(numero)) == 2:\n",
    "        if numero%10 == 0:\n",
    "            return(dic_dezena[numero/10])\n",
    "        elif numero < 20:\n",
    "            return(dic_dezena[numero])\n",
    "        else:\n",
    "            return(dic_dezena[int(numero/10)] + ' e ' + dic_unidade[numero%10])\n",
    "    elif len(str(numero)) == 3:\n",
    "        if numero == 100:\n",
    "            return('cem')\n",
    "        elif numero%100 == 0:\n",
    "            return(dic_centena[int(numero/100)])\n",
    "        elif numero%10 == 0:\n",
    "            return(dic_centena[int(numero/100)] + ' e ' + dic_dezena[int((numero%100)/10)])\n",
    "        elif numero%100 < 10:\n",
    "            return(dic_centena[int(numero/100)] + ' e ' + dic_unidade[numero%100])\n",
    "        elif numero%100 < 20:\n",
    "            return(dic_centena[int(numero/100)] + ' e ' + dic_dezena[numero%100])\n",
    "        else:\n",
    "            return(dic_centena[int(numero/100)] + \n",
    "                  ' e ' + dic_dezena[int((numero%100)/10)] + \n",
    "                  ' e ' + dic_unidade[int((numero%100)%10)])"
   ]
  },
  {
   "cell_type": "code",
   "execution_count": 16,
   "metadata": {
    "collapsed": false
   },
   "outputs": [
    {
     "name": "stdout",
     "output_type": "stream",
     "text": [
      "tres\n",
      "noventa\n",
      "cinquenta e sete\n",
      "dezesseis\n",
      "quarenta\n",
      "cem\n",
      "cento e setenta e tres\n",
      "seiscentos e cinquenta e dois\n",
      "trezentos\n",
      "novecentos e quinze\n",
      "cento e cinquenta\n",
      "cento e cinquenta e cinco\n",
      "cento e quatro\n",
      "cento e dez\n",
      "duzentos e dez\n",
      "duzentos e onze\n",
      "novecentos e noventa e nove\n"
     ]
    }
   ],
   "source": [
    "print(retorna_extenso(3))\n",
    "print(retorna_extenso(90))\n",
    "print(retorna_extenso(57))\n",
    "print(retorna_extenso(16))\n",
    "print(retorna_extenso(40))\n",
    "print(retorna_extenso(100))\n",
    "print(retorna_extenso(173))\n",
    "print(retorna_extenso(652))\n",
    "print(retorna_extenso(300))\n",
    "print(retorna_extenso(915))\n",
    "print(retorna_extenso(150))\n",
    "print(retorna_extenso(155))\n",
    "print(retorna_extenso(104))\n",
    "print(retorna_extenso(110))\n",
    "print(retorna_extenso(210))\n",
    "print(retorna_extenso(211))\n",
    "print(retorna_extenso(999))"
   ]
  },
  {
   "cell_type": "code",
   "execution_count": 4,
   "metadata": {
    "collapsed": true
   },
   "outputs": [],
   "source": [
    "def conta_caracteres(string):\n",
    "    string = string.replace(' ','')\n",
    "    return(len(string))"
   ]
  },
  {
   "cell_type": "code",
   "execution_count": 5,
   "metadata": {
    "collapsed": false
   },
   "outputs": [
    {
     "data": {
      "text/plain": [
       "18"
      ]
     },
     "execution_count": 5,
     "metadata": {},
     "output_type": "execute_result"
    }
   ],
   "source": [
    "conta_caracteres(retorna_extenso(173))"
   ]
  },
  {
   "cell_type": "code",
   "execution_count": 6,
   "metadata": {
    "collapsed": false
   },
   "outputs": [
    {
     "name": "stdout",
     "output_type": "stream",
     "text": [
      "19659\n"
     ]
    }
   ],
   "source": [
    "total = 0\n",
    "for numero in range(1,1000):\n",
    "    total += conta_caracteres(retorna_extenso(numero))\n",
    "print(total)    "
   ]
  },
  {
   "cell_type": "code",
   "execution_count": 9,
   "metadata": {
    "collapsed": true
   },
   "outputs": [],
   "source": [
    "import random"
   ]
  },
  {
   "cell_type": "code",
   "execution_count": 15,
   "metadata": {
    "collapsed": false
   },
   "outputs": [
    {
     "data": {
      "text/plain": [
       "0"
      ]
     },
     "execution_count": 15,
     "metadata": {},
     "output_type": "execute_result"
    }
   ],
   "source": [
    "random.randrange(4)"
   ]
  },
  {
   "cell_type": "code",
   "execution_count": 14,
   "metadata": {
    "collapsed": false
   },
   "outputs": [
    {
     "name": "stdout",
     "output_type": "stream",
     "text": [
      "setecentos e trinta e um\n",
      "trezentos e seis\n",
      "setecentos e sessenta e nove\n",
      "duzentos e dez\n",
      "quatrocentos e setenta\n",
      "trezentos e sessenta e um\n",
      "setecentos e quarenta e nove\n",
      "trezentos e um\n",
      "quinhentos e dezenove\n",
      "cento e vinte e quatro\n",
      "trezentos e trinta e dois\n",
      "seiscentos e trinta e um\n",
      "setecentos e sete\n",
      "oitenta e um\n",
      "noventa e quatro\n",
      "quatrocentos e sessenta e sete\n",
      "oitocentos e setenta e sete\n",
      "trezentos e quarenta e oito\n",
      "seiscentos e setenta e um\n",
      "duzentos e trinta e um\n",
      "quinhentos e oitenta e sete\n",
      "duzentos e quarenta e nove\n",
      "dois\n",
      "cento e setenta e cinco\n",
      "setenta e nove\n",
      "oitocentos e sessenta e tres\n",
      "cento e setenta e cinco\n",
      "dois\n",
      "duzentos e quarenta e dois\n",
      "seiscentos e noventa e seis\n",
      "duzentos e setenta e sete\n",
      "duzentos e cinquenta e um\n",
      "oitocentos e quarenta e tres\n",
      "trezentos e sessenta e um\n",
      "oitocentos e oitenta e dois\n",
      "oitocentos e trinta e quatro\n",
      "quatrocentos e cinquenta e tres\n",
      "quatrocentos e sete\n",
      "quinhentos e oitenta e nove\n",
      "trezentos e trinta e um\n"
     ]
    }
   ],
   "source": [
    "for i in range(40):\n",
    "    print(retorna_extenso(random.randrange(1,1000)))"
   ]
  },
  {
   "cell_type": "code",
   "execution_count": null,
   "metadata": {
    "collapsed": true
   },
   "outputs": [],
   "source": []
  }
 ],
 "metadata": {
  "kernelspec": {
   "display_name": "Python 3",
   "language": "python",
   "name": "python3"
  },
  "language_info": {
   "codemirror_mode": {
    "name": "ipython",
    "version": 3
   },
   "file_extension": ".py",
   "mimetype": "text/x-python",
   "name": "python",
   "nbconvert_exporter": "python",
   "pygments_lexer": "ipython3",
   "version": "3.5.1+"
  }
 },
 "nbformat": 4,
 "nbformat_minor": 0
}
