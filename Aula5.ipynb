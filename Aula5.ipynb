{
 "metadata": {
  "name": "",
  "signature": "sha256:829422cecd21bbcfa68fe0b855b0d4493b01e832ac13076895f2adb5c32b4712"
 },
 "nbformat": 3,
 "nbformat_minor": 0,
 "worksheets": [
  {
   "cells": [
    {
     "cell_type": "markdown",
     "metadata": {},
     "source": [
      "FGV - Escola de Matem\u00e1tica Aplicada\n",
      "==\n",
      "Curso de Ver\u00e3o - Introdu\u00e7\u00e3o \u00e0 Programa\u00e7\u00e3o com a Linguagem Python\n",
      "--"
     ]
    },
    {
     "cell_type": "markdown",
     "metadata": {},
     "source": [
      "Resolvendo o exerc\u00edcio:  \n",
      "https://projecteuler.net/problem=3  \n",
      "\n",
      "The prime factors of 13195 are 5, 7, 13 and 29.  \n",
      "What is the largest prime factor of the number 600851475143 ?"
     ]
    },
    {
     "cell_type": "code",
     "collapsed": false,
     "input": [
      "def maior_fator_primo(n):\n",
      "    #gerando primos at\u00e9 n/2\n",
      "    seq = range(3,int(n/2.)+1)\n",
      "    primos = [2]\n",
      "    for candidato in seq:\n",
      "        E_primo = True\n",
      "        for primo in primos:\n",
      "            if candidato%primo == 0:\n",
      "                E_primo = False\n",
      "        if E_primo:\n",
      "            primos.append(candidato)\n",
      "    fatores = []\n",
      "    for primo in primos:\n",
      "        if n%primo == 0:\n",
      "            fatores.append(primo)\n",
      "    print(fatores)\n",
      "    return fatores"
     ],
     "language": "python",
     "metadata": {},
     "outputs": [],
     "prompt_number": 1
    },
    {
     "cell_type": "code",
     "collapsed": false,
     "input": [
      "maior_fator_primo(13195)"
     ],
     "language": "python",
     "metadata": {},
     "outputs": [
      {
       "output_type": "stream",
       "stream": "stdout",
       "text": [
        "[5, 7, 13, 29]\n"
       ]
      },
      {
       "metadata": {},
       "output_type": "pyout",
       "prompt_number": 2,
       "text": [
        "[5, 7, 13, 29]"
       ]
      }
     ],
     "prompt_number": 2
    },
    {
     "cell_type": "code",
     "collapsed": false,
     "input": [
      "#maior_fator_primo(600851475143)"
     ],
     "language": "python",
     "metadata": {},
     "outputs": [],
     "prompt_number": 4
    },
    {
     "cell_type": "code",
     "collapsed": false,
     "input": [
      "def maior_fator_primo2(n):\n",
      "    primos = [2]\n",
      "    candidato_a_primo = 3\n",
      "    fatores = []\n",
      "    while candidato_a_primo < (int(n/2.)+1):\n",
      "        E_primo = True\n",
      "        for primo in primos:\n",
      "            if candidato_a_primo%primo == 0:\n",
      "                E_primo = False\n",
      "        if E_primo:\n",
      "            primos.append(candidato_a_primo)\n",
      "            if n%candidato_a_primo == 0:\n",
      "                fatores.append(candidato_a_primo)\n",
      "        candidato_a_primo +=1\n",
      "    print(fatores)\n",
      "    return fatores"
     ],
     "language": "python",
     "metadata": {},
     "outputs": [],
     "prompt_number": 5
    },
    {
     "cell_type": "code",
     "collapsed": false,
     "input": [
      "maior_fator_primo2(13195)"
     ],
     "language": "python",
     "metadata": {},
     "outputs": [
      {
       "output_type": "stream",
       "stream": "stdout",
       "text": [
        "[5, 7, 13, 29]\n"
       ]
      },
      {
       "metadata": {},
       "output_type": "pyout",
       "prompt_number": 6,
       "text": [
        "[5, 7, 13, 29]"
       ]
      }
     ],
     "prompt_number": 6
    },
    {
     "cell_type": "code",
     "collapsed": false,
     "input": [
      "#maior_fator_primo2(600851475143)"
     ],
     "language": "python",
     "metadata": {},
     "outputs": [],
     "prompt_number": 8
    },
    {
     "cell_type": "code",
     "collapsed": false,
     "input": [
      "def is_prime(n):\n",
      "    if n <= 3:\n",
      "        return n >= 2\n",
      "    if n % 2 == 0 or n % 3 == 0:\n",
      "        return False\n",
      "    for i in range(5, int(n ** 0.5) + 1, 6):\n",
      "        if n % i == 0 or n % (i + 2) == 0:\n",
      "            return False\n",
      "    return True"
     ],
     "language": "python",
     "metadata": {},
     "outputs": [],
     "prompt_number": 9
    },
    {
     "cell_type": "code",
     "collapsed": false,
     "input": [
      "def maior_fator_primo3(n):\n",
      "    fatores = []\n",
      "    candidato_a_fator = 2\n",
      "    while candidato_a_fator < (int(n/2.)+1):\n",
      "            if is_prime(candidato_a_fator) and n%candidato_a_fator == 0:\n",
      "                fatores.append(candidato_a_fator)\n",
      "            candidato_a_fator +=1\n",
      "    print(fatores)\n",
      "    return fatores"
     ],
     "language": "python",
     "metadata": {},
     "outputs": [],
     "prompt_number": 13
    },
    {
     "cell_type": "code",
     "collapsed": false,
     "input": [
      "maior_fator_primo3(9139195)"
     ],
     "language": "python",
     "metadata": {},
     "outputs": [
      {
       "output_type": "stream",
       "stream": "stdout",
       "text": [
        "[5, 13, 140603]\n"
       ]
      },
      {
       "metadata": {},
       "output_type": "pyout",
       "prompt_number": 16,
       "text": [
        "[5, 13, 140603]"
       ]
      }
     ],
     "prompt_number": 16
    },
    {
     "cell_type": "markdown",
     "metadata": {},
     "source": [
      "Resolvendo o exerc\u00edcio:  \n",
      "https://projecteuler.net/problem=14\n",
      "\n",
      "The following iterative sequence is defined for the set of positive integers:\n",
      "\n",
      "n \u2192 n/2 (n is even)\n",
      "n \u2192 3n + 1 (n is odd)\n",
      "\n",
      "Using the rule above and starting with 13, we generate the following sequence:\n",
      "13 \u2192 40 \u2192 20 \u2192 10 \u2192 5 \u2192 16 \u2192 8 \u2192 4 \u2192 2 \u2192 1\n",
      "\n",
      "It can be seen that this sequence (starting at 13 and finishing at 1) contains 10 terms. Although it has not been proved yet (Collatz Problem), it is thought that all starting numbers finish at 1.\n",
      "\n",
      "Which starting number, under one million, produces the longest chain?\n",
      "\n",
      "NOTE: Once the chain starts the terms are allowed to go above one million.\n"
     ]
    },
    {
     "cell_type": "code",
     "collapsed": false,
     "input": [
      "def collatz(num):\n",
      "    if num%2 == 0:\n",
      "        return int(num/2)\n",
      "    else:\n",
      "        return int((3*num)+1)"
     ],
     "language": "python",
     "metadata": {},
     "outputs": [],
     "prompt_number": 1
    },
    {
     "cell_type": "code",
     "collapsed": false,
     "input": [
      "n = 100000\n",
      "tamseqmax = 1\n",
      "for numero in range(2,n+1):\n",
      "    seq = [numero]\n",
      "    proximo = numero\n",
      "    while proximo != 1:\n",
      "        proximo = collatz(proximo)\n",
      "        seq.append(proximo)\n",
      "    #print(seq)\n",
      "    if len(seq) > tamseqmax:\n",
      "        tamseqmax = len(seq)\n",
      "        seqmax = seq\n",
      "print('A maior sequencia para numeros menores que {} \u00e9 {}'.format(n,seqmax))"
     ],
     "language": "python",
     "metadata": {},
     "outputs": [
      {
       "output_type": "stream",
       "stream": "stdout",
       "text": [
        "A maior sequencia para numeros menores que 100000 \u00e9 [77031, 231094, 115547, 346642, 173321, 519964, 259982, 129991, 389974, 194987, 584962, 292481, 877444, 438722, 219361, 658084, 329042, 164521, 493564, 246782, 123391, 370174, 185087, 555262, 277631, 832894, 416447, 1249342, 624671, 1874014, 937007, 2811022, 1405511, 4216534, 2108267, 6324802, 3162401, 9487204, 4743602, 2371801, 7115404, 3557702, 1778851, 5336554, 2668277, 8004832, 4002416, 2001208, 1000604, 500302, 250151, 750454, 375227, 1125682, 562841, 1688524, 844262, 422131, 1266394, 633197, 1899592, 949796, 474898, 237449, 712348, 356174, 178087, 534262, 267131, 801394, 400697, 1202092, 601046, 300523, 901570, 450785, 1352356, 676178, 338089, 1014268, 507134, 253567, 760702, 380351, 1141054, 570527, 1711582, 855791, 2567374, 1283687, 3851062, 1925531, 5776594, 2888297, 8664892, 4332446, 2166223, 6498670, 3249335, 9748006, 4874003, 14622010, 7311005, 21933016, 10966508, 5483254, 2741627, 8224882, 4112441, 12337324, 6168662, 3084331, 9252994, 4626497, 13879492, 6939746, 3469873, 10409620, 5204810, 2602405, 7807216, 3903608, 1951804, 975902, 487951, 1463854, 731927, 2195782, 1097891, 3293674, 1646837, 4940512, 2470256, 1235128, 617564, 308782, 154391, 463174, 231587, 694762, 347381, 1042144, 521072, 260536, 130268, 65134, 32567, 97702, 48851, 146554, 73277, 219832, 109916, 54958, 27479, 82438, 41219, 123658, 61829, 185488, 92744, 46372, 23186, 11593, 34780, 17390, 8695, 26086, 13043, 39130, 19565, 58696, 29348, 14674, 7337, 22012, 11006, 5503, 16510, 8255, 24766, 12383, 37150, 18575, 55726, 27863, 83590, 41795, 125386, 62693, 188080, 94040, 47020, 23510, 11755, 35266, 17633, 52900, 26450, 13225, 39676, 19838, 9919, 29758, 14879, 44638, 22319, 66958, 33479, 100438, 50219, 150658, 75329, 225988, 112994, 56497, 169492, 84746, 42373, 127120, 63560, 31780, 15890, 7945, 23836, 11918, 5959, 17878, 8939, 26818, 13409, 40228, 20114, 10057, 30172, 15086, 7543, 22630, 11315, 33946, 16973, 50920, 25460, 12730, 6365, 19096, 9548, 4774, 2387, 7162, 3581, 10744, 5372, 2686, 1343, 4030, 2015, 6046, 3023, 9070, 4535, 13606, 6803, 20410, 10205, 30616, 15308, 7654, 3827, 11482, 5741, 17224, 8612, 4306, 2153, 6460, 3230, 1615, 4846, 2423, 7270, 3635, 10906, 5453, 16360, 8180, 4090, 2045, 6136, 3068, 1534, 767, 2302, 1151, 3454, 1727, 5182, 2591, 7774, 3887, 11662, 5831, 17494, 8747, 26242, 13121, 39364, 19682, 9841, 29524, 14762, 7381, 22144, 11072, 5536, 2768, 1384, 692, 346, 173, 520, 260, 130, 65, 196, 98, 49, 148, 74, 37, 112, 56, 28, 14, 7, 22, 11, 34, 17, 52, 26, 13, 40, 20, 10, 5, 16, 8, 4, 2, 1]\n"
       ]
      }
     ],
     "prompt_number": 12
    },
    {
     "cell_type": "heading",
     "level": 4,
     "metadata": {},
     "source": [
      "Tipo Arquivo"
     ]
    },
    {
     "cell_type": "code",
     "collapsed": false,
     "input": [
      "texto = 'Minha string'\n",
      "f = open('meu_arquivo.txt', mode='w', encoding='utf-8')"
     ],
     "language": "python",
     "metadata": {},
     "outputs": [],
     "prompt_number": 17
    },
    {
     "cell_type": "code",
     "collapsed": false,
     "input": [
      "f.write(texto)"
     ],
     "language": "python",
     "metadata": {},
     "outputs": [
      {
       "metadata": {},
       "output_type": "pyout",
       "prompt_number": 18,
       "text": [
        "12"
       ]
      }
     ],
     "prompt_number": 18
    },
    {
     "cell_type": "code",
     "collapsed": false,
     "input": [
      "f.close()"
     ],
     "language": "python",
     "metadata": {},
     "outputs": [],
     "prompt_number": 19
    },
    {
     "cell_type": "code",
     "collapsed": false,
     "input": [
      "g = open('meu_arquivo.txt', mode='r')"
     ],
     "language": "python",
     "metadata": {},
     "outputs": [],
     "prompt_number": 20
    },
    {
     "cell_type": "code",
     "collapsed": false,
     "input": [
      "primeira_linha = g.readline()"
     ],
     "language": "python",
     "metadata": {},
     "outputs": [],
     "prompt_number": 21
    },
    {
     "cell_type": "code",
     "collapsed": false,
     "input": [
      "primeira_linha"
     ],
     "language": "python",
     "metadata": {},
     "outputs": [
      {
       "metadata": {},
       "output_type": "pyout",
       "prompt_number": 22,
       "text": [
        "'Minha string\\n'"
       ]
      }
     ],
     "prompt_number": 22
    },
    {
     "cell_type": "code",
     "collapsed": false,
     "input": [
      "segunda_linha = g.readline()"
     ],
     "language": "python",
     "metadata": {},
     "outputs": [],
     "prompt_number": 23
    },
    {
     "cell_type": "code",
     "collapsed": false,
     "input": [
      "segunda_linha"
     ],
     "language": "python",
     "metadata": {},
     "outputs": [
      {
       "metadata": {},
       "output_type": "pyout",
       "prompt_number": 24,
       "text": [
        "'Modificar o arquivo\\n'"
       ]
      }
     ],
     "prompt_number": 24
    },
    {
     "cell_type": "code",
     "collapsed": false,
     "input": [
      "proxima_linha = g.readline()\n",
      "print(proxima_linha)"
     ],
     "language": "python",
     "metadata": {},
     "outputs": [
      {
       "output_type": "stream",
       "stream": "stdout",
       "text": [
        "\n"
       ]
      }
     ],
     "prompt_number": 55
    },
    {
     "cell_type": "code",
     "collapsed": false,
     "input": [
      "g.seek(0)"
     ],
     "language": "python",
     "metadata": {},
     "outputs": [
      {
       "metadata": {},
       "output_type": "pyout",
       "prompt_number": 56,
       "text": [
        "0"
       ]
      }
     ],
     "prompt_number": 56
    },
    {
     "cell_type": "code",
     "collapsed": false,
     "input": [
      "todas_as_linhas = g.read()"
     ],
     "language": "python",
     "metadata": {},
     "outputs": [],
     "prompt_number": 57
    },
    {
     "cell_type": "code",
     "collapsed": false,
     "input": [
      "print(todas_as_linhas)"
     ],
     "language": "python",
     "metadata": {},
     "outputs": [
      {
       "output_type": "stream",
       "stream": "stdout",
       "text": [
        "Minha string\n",
        "Modificar o arquivo\n",
        "escrever besteiras\n",
        "fazer um monte de coisas\n",
        "e ver no que d\u00e1\n"
       ]
      }
     ],
     "prompt_number": 59
    },
    {
     "cell_type": "code",
     "collapsed": false,
     "input": [
      "g.close()"
     ],
     "language": "python",
     "metadata": {},
     "outputs": [],
     "prompt_number": 60
    },
    {
     "cell_type": "code",
     "collapsed": false,
     "input": [
      "with open('novo_arquivo.txt', mode='w', encoding='utf-8') as f:\n",
      "    f.write('Peso\\t\\t72\\n')\n",
      "    f.write('Altura\\t\\t183\\n')\n",
      "    f.write('Idade\\t\\t44\\n')\n",
      "    f.write('Genero\\t\\tMasculino\\n')\n",
      "    f.write('\\n')"
     ],
     "language": "python",
     "metadata": {},
     "outputs": [],
     "prompt_number": 65
    },
    {
     "cell_type": "code",
     "collapsed": false,
     "input": [
      "with open('novo_arquivo.txt', mode='r', encoding='utf-8') as f:\n",
      "    linha = f.readlines()\n",
      "    #linha = f.read()\n",
      "linha"
     ],
     "language": "python",
     "metadata": {},
     "outputs": [
      {
       "metadata": {},
       "output_type": "pyout",
       "prompt_number": 77,
       "text": [
        "['Peso\\t\\t72\\n',\n",
        " 'Altura\\t\\t183\\n',\n",
        " 'Idade\\t\\t44\\n',\n",
        " 'Genero\\t\\tMasculino\\n',\n",
        " '\\n']"
       ]
      }
     ],
     "prompt_number": 77
    },
    {
     "cell_type": "code",
     "collapsed": false,
     "input": [
      "with open('texto_python.txt', mode='r', encoding='utf-8') as f:\n",
      "    texto = f.read()\n",
      "tokens = texto.split()\n",
      "#tokens"
     ],
     "language": "python",
     "metadata": {},
     "outputs": [],
     "prompt_number": 85
    },
    {
     "cell_type": "code",
     "collapsed": false,
     "input": [
      "freqdist = {}\n",
      "for token in tokens:\n",
      "    if token not in freqdist:\n",
      "        freqdist[token] = 1\n",
      "    else:\n",
      "        freqdist[token] += 1\n",
      "freqdist['Python']    "
     ],
     "language": "python",
     "metadata": {},
     "outputs": [
      {
       "metadata": {},
       "output_type": "pyout",
       "prompt_number": 94,
       "text": [
        "120"
       ]
      }
     ],
     "prompt_number": 94
    },
    {
     "cell_type": "heading",
     "level": 4,
     "metadata": {},
     "source": [
      "M\u00f3dulo Collections"
     ]
    },
    {
     "cell_type": "code",
     "collapsed": false,
     "input": [
      "from collections import Counter"
     ],
     "language": "python",
     "metadata": {},
     "outputs": [],
     "prompt_number": 90
    },
    {
     "cell_type": "code",
     "collapsed": false,
     "input": [
      "freqdist2 = Counter(tokens)\n",
      "freqdist2.most_common(10)"
     ],
     "language": "python",
     "metadata": {},
     "outputs": [
      {
       "metadata": {},
       "output_type": "pyout",
       "prompt_number": 97,
       "text": [
        "[('de', 385),\n",
        " ('*', 163),\n",
        " ('a', 143),\n",
        " ('o', 137),\n",
        " ('e', 121),\n",
        " ('Python', 120),\n",
        " ('para', 113),\n",
        " ('em', 111),\n",
        " ('da', 86),\n",
        " ('\u2022', 83)]"
       ]
      }
     ],
     "prompt_number": 97
    },
    {
     "cell_type": "heading",
     "level": 4,
     "metadata": {},
     "source": [
      "M\u00f3dulo Time"
     ]
    },
    {
     "cell_type": "code",
     "collapsed": false,
     "input": [
      "import time"
     ],
     "language": "python",
     "metadata": {},
     "outputs": [],
     "prompt_number": 98
    },
    {
     "cell_type": "code",
     "collapsed": false,
     "input": [
      "time.time()"
     ],
     "language": "python",
     "metadata": {},
     "outputs": [
      {
       "metadata": {},
       "output_type": "pyout",
       "prompt_number": 99,
       "text": [
        "1420825757.402538"
       ]
      }
     ],
     "prompt_number": 99
    },
    {
     "cell_type": "code",
     "collapsed": false,
     "input": [
      "time.time()"
     ],
     "language": "python",
     "metadata": {},
     "outputs": [
      {
       "metadata": {},
       "output_type": "pyout",
       "prompt_number": 100,
       "text": [
        "1420825773.635538"
       ]
      }
     ],
     "prompt_number": 100
    },
    {
     "cell_type": "code",
     "collapsed": false,
     "input": [
      "for letra in 'Meu nome n\u00e3o \u00e9 Johnny'[0:10]:\n",
      "    print(letra)\n",
      "    time.sleep(2)"
     ],
     "language": "python",
     "metadata": {},
     "outputs": [
      {
       "output_type": "stream",
       "stream": "stdout",
       "text": [
        "M\n",
        "e"
       ]
      },
      {
       "output_type": "stream",
       "stream": "stdout",
       "text": [
        "\n",
        "u"
       ]
      },
      {
       "output_type": "stream",
       "stream": "stdout",
       "text": [
        "\n",
        " "
       ]
      },
      {
       "output_type": "stream",
       "stream": "stdout",
       "text": [
        "\n",
        "n"
       ]
      },
      {
       "output_type": "stream",
       "stream": "stdout",
       "text": [
        "\n",
        "o"
       ]
      },
      {
       "output_type": "stream",
       "stream": "stdout",
       "text": [
        "\n",
        "m"
       ]
      },
      {
       "output_type": "stream",
       "stream": "stdout",
       "text": [
        "\n",
        "e"
       ]
      },
      {
       "output_type": "stream",
       "stream": "stdout",
       "text": [
        "\n",
        " "
       ]
      },
      {
       "output_type": "stream",
       "stream": "stdout",
       "text": [
        "\n",
        "n"
       ]
      },
      {
       "output_type": "stream",
       "stream": "stdout",
       "text": [
        "\n"
       ]
      }
     ],
     "prompt_number": 140
    },
    {
     "cell_type": "code",
     "collapsed": false,
     "input": [
      "x = time.time()\n",
      "for x in range(20,30):\n",
      "    print(x**x)\n",
      "y = time.time()\n",
      "tempo = y - x\n",
      "print(tempo)"
     ],
     "language": "python",
     "metadata": {},
     "outputs": [
      {
       "output_type": "stream",
       "stream": "stdout",
       "text": [
        "104857600000000000000000000\n",
        "5842587018385982521381124421\n",
        "341427877364219557396646723584\n",
        "20880467999847912034355032910567\n",
        "1333735776850284124449081472843776\n",
        "88817841970012523233890533447265625\n",
        "6156119580207157310796674288400203776\n",
        "443426488243037769948249630619149892803\n",
        "33145523113253374862572728253364605812736\n",
        "2567686153161211134561828214731016126483469\n",
        "1420826729.845538\n"
       ]
      }
     ],
     "prompt_number": 142
    },
    {
     "cell_type": "code",
     "collapsed": false,
     "input": [
      "time.tzname"
     ],
     "language": "python",
     "metadata": {},
     "outputs": [
      {
       "metadata": {},
       "output_type": "pyout",
       "prompt_number": 138,
       "text": [
        "('Hora oficial do Brasil', 'Hor\u00e1rio brasileiro de ver\u00e3o')"
       ]
      }
     ],
     "prompt_number": 138
    },
    {
     "cell_type": "heading",
     "level": 4,
     "metadata": {},
     "source": [
      "M\u00f3dulo Pickle"
     ]
    },
    {
     "cell_type": "code",
     "collapsed": false,
     "input": [
      "import pickle"
     ],
     "language": "python",
     "metadata": {},
     "outputs": [],
     "prompt_number": 143
    },
    {
     "cell_type": "code",
     "collapsed": false,
     "input": [
      "lista = [1,2,3]\n",
      "with open('data.pickle', 'wb') as f:\n",
      "    pickle.dump(lista,f)"
     ],
     "language": "python",
     "metadata": {},
     "outputs": [],
     "prompt_number": 158
    },
    {
     "cell_type": "code",
     "collapsed": false,
     "input": [
      "with open('data.pickle', 'rb') as f:\n",
      "    nova_lista = pickle.load(f)\n",
      "nova_lista"
     ],
     "language": "python",
     "metadata": {},
     "outputs": [
      {
       "metadata": {},
       "output_type": "pyout",
       "prompt_number": 159,
       "text": [
        "[1, 2, 3]"
       ]
      }
     ],
     "prompt_number": 159
    },
    {
     "cell_type": "heading",
     "level": 4,
     "metadata": {},
     "source": [
      "List Comprehension"
     ]
    },
    {
     "cell_type": "code",
     "collapsed": false,
     "input": [
      "[x**2 for x in range(5)]"
     ],
     "language": "python",
     "metadata": {},
     "outputs": [
      {
       "metadata": {},
       "output_type": "pyout",
       "prompt_number": 167,
       "text": [
        "[0, 1, 4, 9, 16]"
       ]
      }
     ],
     "prompt_number": 167
    },
    {
     "cell_type": "code",
     "collapsed": false,
     "input": [
      "lista = []\n",
      "for x in range(5):\n",
      "    lista.append(x**2)\n",
      "lista"
     ],
     "language": "python",
     "metadata": {},
     "outputs": [
      {
       "metadata": {},
       "output_type": "pyout",
       "prompt_number": 170,
       "text": [
        "[0, 1, 4, 9, 16]"
       ]
      }
     ],
     "prompt_number": 170
    },
    {
     "cell_type": "code",
     "collapsed": false,
     "input": [
      "variaveis = dir()"
     ],
     "language": "python",
     "metadata": {},
     "outputs": [],
     "prompt_number": 181
    },
    {
     "cell_type": "code",
     "collapsed": false,
     "input": [
      "minhas = [v for v in variaveis if not v.startswith('_')]"
     ],
     "language": "python",
     "metadata": {},
     "outputs": [],
     "prompt_number": 185
    },
    {
     "cell_type": "code",
     "collapsed": false,
     "input": [
      "type(dir)"
     ],
     "language": "python",
     "metadata": {},
     "outputs": [
      {
       "metadata": {},
       "output_type": "pyout",
       "prompt_number": 183,
       "text": [
        "builtin_function_or_method"
       ]
      }
     ],
     "prompt_number": 183
    },
    {
     "cell_type": "code",
     "collapsed": false,
     "input": [
      "len(variaveis)"
     ],
     "language": "python",
     "metadata": {},
     "outputs": [
      {
       "metadata": {},
       "output_type": "pyout",
       "prompt_number": 184,
       "text": [
        "310"
       ]
      }
     ],
     "prompt_number": 184
    },
    {
     "cell_type": "code",
     "collapsed": false,
     "input": [
      "del variaveis"
     ],
     "language": "python",
     "metadata": {},
     "outputs": [],
     "prompt_number": 179
    },
    {
     "cell_type": "markdown",
     "metadata": {},
     "source": [
      "Para casa:  \n",
      "https://projecteuler.net/problem=8"
     ]
    },
    {
     "cell_type": "code",
     "collapsed": false,
     "input": [],
     "language": "python",
     "metadata": {},
     "outputs": []
    }
   ],
   "metadata": {}
  }
 ]
}