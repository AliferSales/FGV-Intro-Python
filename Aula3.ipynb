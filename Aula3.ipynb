{
 "metadata": {
  "name": "",
  "signature": "sha256:890812898a393bf670e2f799b50a0fe653f7abd4bb7889409038cf6a6538802a"
 },
 "nbformat": 3,
 "nbformat_minor": 0,
 "worksheets": [
  {
   "cells": [
    {
     "cell_type": "markdown",
     "metadata": {},
     "source": [
      "FGV - Escola de Matem\u00e1tica Aplicada\n",
      "==\n",
      "Curso de Ver\u00e3o - Introdu\u00e7\u00e3o \u00e0 Programa\u00e7\u00e3o com a Linguagem Python\n",
      "--"
     ]
    },
    {
     "cell_type": "heading",
     "level": 4,
     "metadata": {},
     "source": [
      "Condicionais e Loops"
     ]
    },
    {
     "cell_type": "heading",
     "level": 4,
     "metadata": {},
     "source": [
      "Condicionais:"
     ]
    },
    {
     "cell_type": "code",
     "collapsed": false,
     "input": [
      "nome = 'Thais'\n",
      "\n",
      "if nome.startswith('T'):\n",
      "    print('o nome come\u00e7a com {}'.format(nome[0]))\n",
      "    print('Margarida')\n",
      "elif nome.startswith('U'):\n",
      "    print('o nome come\u00e7a com {}'.format(nome[0]))\n",
      "elif nome.startswith('V'):\n",
      "    print('o nome come\u00e7a com {}'.format(nome[0]))\n",
      "elif nome.startswith('X'):\n",
      "    print('o nome come\u00e7a com {}'.format(nome[0]))\n",
      "elif nome.startswith('Z'):\n",
      "    print('o nome come\u00e7a com {}'.format(nome[0]))\n",
      "else:\n",
      "    print('o nome n\u00e3o come\u00e7a com T,U,V, X ou Z')\n",
      "print('Margarida')"
     ],
     "language": "python",
     "metadata": {},
     "outputs": [
      {
       "output_type": "stream",
       "stream": "stdout",
       "text": [
        "o nome n\u00e3o come\u00e7a com T,U,V, X ou Z\n",
        "Margarida\n"
       ]
      }
     ],
     "prompt_number": 103
    },
    {
     "cell_type": "code",
     "collapsed": false,
     "input": [
      "numero = 3\n",
      "if numero > 5:\n",
      "    print('maior que 5')\n",
      "    if numero > 7:\n",
      "        print('maior que 7')\n",
      "        if numero > 9:\n",
      "            print('maior que 9')\n",
      "else:\n",
      "    print('o numero \u00e9 menor ou igual a 5')"
     ],
     "language": "python",
     "metadata": {},
     "outputs": [
      {
       "output_type": "stream",
       "stream": "stdout",
       "text": [
        "o numero \u00e9 menor ou igual a 5\n"
       ]
      }
     ],
     "prompt_number": 108
    },
    {
     "cell_type": "code",
     "collapsed": false,
     "input": [
      "gen50 = range(51)"
     ],
     "language": "python",
     "metadata": {},
     "outputs": [],
     "prompt_number": 88
    },
    {
     "cell_type": "code",
     "collapsed": false,
     "input": [
      "gen50"
     ],
     "language": "python",
     "metadata": {},
     "outputs": [
      {
       "metadata": {},
       "output_type": "pyout",
       "prompt_number": 89,
       "text": [
        "range(0, 51)"
       ]
      }
     ],
     "prompt_number": 89
    },
    {
     "cell_type": "code",
     "collapsed": false,
     "input": [
      "lista = list(gen50)"
     ],
     "language": "python",
     "metadata": {},
     "outputs": [],
     "prompt_number": 90
    },
    {
     "cell_type": "heading",
     "level": 4,
     "metadata": {},
     "source": [
      "Loops"
     ]
    },
    {
     "cell_type": "heading",
     "level": 4,
     "metadata": {},
     "source": [
      "O comando \"for\""
     ]
    },
    {
     "cell_type": "code",
     "collapsed": false,
     "input": [
      "for valor in range(10):\n",
      "    print(valor)\n",
      "    print(valor + 1)\n",
      "    print('Margarida')"
     ],
     "language": "python",
     "metadata": {},
     "outputs": [
      {
       "output_type": "stream",
       "stream": "stdout",
       "text": [
        "0\n",
        "1\n",
        "Margarida\n",
        "1\n",
        "2\n",
        "Margarida\n",
        "2\n",
        "3\n",
        "Margarida\n",
        "3\n",
        "4\n",
        "Margarida\n",
        "4\n",
        "5\n",
        "Margarida\n",
        "5\n",
        "6\n",
        "Margarida\n",
        "6\n",
        "7\n",
        "Margarida\n",
        "7\n",
        "8\n",
        "Margarida\n",
        "8\n",
        "9\n",
        "Margarida\n",
        "9\n",
        "10\n",
        "Margarida\n"
       ]
      }
     ],
     "prompt_number": 98
    },
    {
     "cell_type": "code",
     "collapsed": false,
     "input": [
      "for letra in 'Meu nome n\u00e3o \u00e9 Johnny':\n",
      "    print(letra)"
     ],
     "language": "python",
     "metadata": {},
     "outputs": [
      {
       "output_type": "stream",
       "stream": "stdout",
       "text": [
        "M\n",
        "e\n",
        "u\n",
        " \n",
        "n\n",
        "o\n",
        "m\n",
        "e\n",
        " \n",
        "n\n",
        "\u00e3\n",
        "o\n",
        " \n",
        "\u00e9\n",
        " \n",
        "J\n",
        "o\n",
        "h\n",
        "n\n",
        "n\n",
        "y\n"
       ]
      }
     ],
     "prompt_number": 109
    },
    {
     "cell_type": "code",
     "collapsed": false,
     "input": [
      "for elemento in [1,4,8,9,10]:\n",
      "    print(elemento, elemento**2, elemento**3)"
     ],
     "language": "python",
     "metadata": {},
     "outputs": [
      {
       "output_type": "stream",
       "stream": "stdout",
       "text": [
        "1 1 1\n",
        "4 16 64\n",
        "8 64 512\n",
        "9 81 729\n",
        "10 100 1000\n"
       ]
      }
     ],
     "prompt_number": 115
    },
    {
     "cell_type": "code",
     "collapsed": false,
     "input": [
      "for x,y in [(1,2),(3,6),(3,9)]:\n",
      "    print('a latitude \u00e9 {}'.format(x))\n",
      "    print('a longitude \u00e9 {}'.format(y))"
     ],
     "language": "python",
     "metadata": {},
     "outputs": [
      {
       "output_type": "stream",
       "stream": "stdout",
       "text": [
        "a latitude \u00e9 1\n",
        "a longitude \u00e9 2\n",
        "a latitude \u00e9 3\n",
        "a longitude \u00e9 6\n",
        "a latitude \u00e9 3\n",
        "a longitude \u00e9 9\n"
       ]
      }
     ],
     "prompt_number": 113
    },
    {
     "cell_type": "code",
     "collapsed": false,
     "input": [
      "c = {1,4,4,4,4,5}\n",
      "for elemento in c:\n",
      "    print(elemento)"
     ],
     "language": "python",
     "metadata": {},
     "outputs": [
      {
       "output_type": "stream",
       "stream": "stdout",
       "text": [
        "1\n",
        "4\n",
        "5\n"
       ]
      }
     ],
     "prompt_number": 116
    },
    {
     "cell_type": "markdown",
     "metadata": {},
     "source": [
      "Um exemplo: n\u00fameros \u00edmpares divis\u00edveis por 7 e 5 at\u00e9 100"
     ]
    },
    {
     "cell_type": "code",
     "collapsed": false,
     "input": [
      "seq = range(101)\n",
      "for numero in seq:\n",
      "    if numero%7 == 0 and numero%5 == 0 and numero%2 != 0:\n",
      "        print(numero)"
     ],
     "language": "python",
     "metadata": {},
     "outputs": [
      {
       "output_type": "stream",
       "stream": "stdout",
       "text": [
        "35\n"
       ]
      }
     ],
     "prompt_number": 130
    },
    {
     "cell_type": "markdown",
     "metadata": {},
     "source": [
      "Um exemplo: gerando n\u00fameros primos"
     ]
    },
    {
     "cell_type": "code",
     "collapsed": false,
     "input": [
      "seq = range(3,1000)\n",
      "primos = [2]\n",
      "for candidato in seq:\n",
      "    E_primo = True\n",
      "    for primo in primos:\n",
      "        if candidato%primo == 0:\n",
      "            E_primo = False\n",
      "    if E_primo:\n",
      "        primos.append(candidato)\n",
      "        #print(candidato)"
     ],
     "language": "python",
     "metadata": {},
     "outputs": [],
     "prompt_number": 143
    },
    {
     "cell_type": "heading",
     "level": 4,
     "metadata": {},
     "source": [
      "O comando \"while\""
     ]
    },
    {
     "cell_type": "code",
     "collapsed": false,
     "input": [
      "x = 1\n",
      "while x < 10:\n",
      "    print(x)\n",
      "    x += 1"
     ],
     "language": "python",
     "metadata": {},
     "outputs": [
      {
       "output_type": "stream",
       "stream": "stdout",
       "text": [
        "1\n",
        "2\n",
        "3\n",
        "4\n",
        "5\n",
        "6\n",
        "7\n",
        "8\n",
        "9\n"
       ]
      }
     ],
     "prompt_number": 175
    },
    {
     "cell_type": "code",
     "collapsed": false,
     "input": [
      "import random"
     ],
     "language": "python",
     "metadata": {},
     "outputs": [],
     "prompt_number": 155
    },
    {
     "cell_type": "code",
     "collapsed": false,
     "input": [
      "while True:\n",
      "    x = random.random()\n",
      "    print(x)\n",
      "    if 0.5 > x > 0.1:\n",
      "        break"
     ],
     "language": "python",
     "metadata": {},
     "outputs": [
      {
       "output_type": "stream",
       "stream": "stdout",
       "text": [
        "0.03797355940101432\n",
        "0.5918071263773071\n",
        "0.9698004173499414\n",
        "0.18161820386614524\n"
       ]
      }
     ],
     "prompt_number": 197
    },
    {
     "cell_type": "code",
     "collapsed": false,
     "input": [
      "for numero in range(10):\n",
      "    if numero in [5,7,9]:\n",
      "        continue\n",
      "    print(numero)"
     ],
     "language": "python",
     "metadata": {},
     "outputs": [
      {
       "output_type": "stream",
       "stream": "stdout",
       "text": [
        "0\n",
        "1\n",
        "2\n",
        "3\n",
        "4\n",
        "6\n",
        "8\n"
       ]
      }
     ],
     "prompt_number": 199
    },
    {
     "cell_type": "code",
     "collapsed": false,
     "input": [
      "for x in range(6):\n",
      "    print(random.randrange(1,61))"
     ],
     "language": "python",
     "metadata": {},
     "outputs": [
      {
       "output_type": "stream",
       "stream": "stdout",
       "text": [
        "47\n",
        "18\n",
        "16\n",
        "5\n",
        "41\n",
        "58\n"
       ]
      }
     ],
     "prompt_number": 227
    },
    {
     "cell_type": "markdown",
     "metadata": {},
     "source": [
      "Um exemplo: simulando a mega-sena"
     ]
    },
    {
     "cell_type": "code",
     "collapsed": false,
     "input": [
      "aposta = {23,43,1,39,38,24,50,56}\n",
      "for i in range(2*52*120):\n",
      "    sorteados = set([])\n",
      "    while len(sorteados) < 6:\n",
      "        numero = random.randrange(1,61)\n",
      "        sorteados.add(numero)\n",
      "    acertos = sorteados.intersection(aposta)\n",
      "    if len(acertos) > 4:\n",
      "        print('foram sorteados os n\u00fameros {}'.format(sorteados))\n",
      "        print('acertei os numeros {}'.format(acertos))"
     ],
     "language": "python",
     "metadata": {},
     "outputs": [
      {
       "output_type": "stream",
       "stream": "stdout",
       "text": [
        "foram sorteados os n\u00fameros {1, 38, 39, 47, 23, 56}\n",
        "acertei os numeros {23, 1, 56, 38, 39}\n",
        "foram sorteados os n\u00fameros {1, 38, 39, 23, 56, 59}"
       ]
      },
      {
       "output_type": "stream",
       "stream": "stdout",
       "text": [
        "\n",
        "acertei os numeros {23, 1, 56, 38, 39}\n",
        "foram sorteados os n\u00fameros {38, 39, 9, 43, 50, 24}\n",
        "acertei os numeros {24, 50, 43, 38, 39}\n"
       ]
      }
     ],
     "prompt_number": 244
    },
    {
     "cell_type": "markdown",
     "metadata": {},
     "source": [
      "Um exemplo: gerando a sequ\u00eancia de fibonacci"
     ]
    },
    {
     "cell_type": "code",
     "collapsed": false,
     "input": [
      "fibo = [0,1]\n",
      "for i in range(99):\n",
      "    fibo.append(fibo[-1]+fibo[-2])\n",
      "print(fibo)"
     ],
     "language": "python",
     "metadata": {},
     "outputs": [
      {
       "output_type": "stream",
       "stream": "stdout",
       "text": [
        "[0, 1, 1, 2, 3, 5, 8, 13, 21, 34, 55, 89, 144, 233, 377, 610, 987, 1597, 2584, 4181, 6765, 10946, 17711, 28657, 46368, 75025, 121393, 196418, 317811, 514229, 832040, 1346269, 2178309, 3524578, 5702887, 9227465, 14930352, 24157817, 39088169, 63245986, 102334155, 165580141, 267914296, 433494437, 701408733, 1134903170, 1836311903, 2971215073, 4807526976, 7778742049, 12586269025, 20365011074, 32951280099, 53316291173, 86267571272, 139583862445, 225851433717, 365435296162, 591286729879, 956722026041, 1548008755920, 2504730781961, 4052739537881, 6557470319842, 10610209857723, 17167680177565, 27777890035288, 44945570212853, 72723460248141, 117669030460994, 190392490709135, 308061521170129, 498454011879264, 806515533049393, 1304969544928657, 2111485077978050, 3416454622906707, 5527939700884757, 8944394323791464, 14472334024676221, 23416728348467685, 37889062373143906, 61305790721611591, 99194853094755497, 160500643816367088, 259695496911122585, 420196140727489673, 679891637638612258, 1100087778366101931, 1779979416004714189, 2880067194370816120, 4660046610375530309, 7540113804746346429, 12200160415121876738, 19740274219868223167, 31940434634990099905, 51680708854858323072, 83621143489848422977, 135301852344706746049, 218922995834555169026, 354224848179261915075, 573147844013817084101]\n"
       ]
      }
     ],
     "prompt_number": 246
    }
   ],
   "metadata": {}
  }
 ]
}